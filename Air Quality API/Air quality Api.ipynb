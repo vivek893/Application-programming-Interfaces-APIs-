{
 "cells": [
  {
   "cell_type": "markdown",
   "id": "53441d8b",
   "metadata": {},
   "source": [
    "# work on Air quality Api's"
   ]
  },
  {
   "cell_type": "code",
   "execution_count": 5,
   "id": "58e2011b",
   "metadata": {},
   "outputs": [
    {
     "name": "stdout",
     "output_type": "stream",
     "text": [
      "200\n",
      "{'meta': {'name': 'openaq-api', 'license': '', 'website': '/', 'page': 1, 'limit': 100, 'found': 2375}, 'results': [{'country': 'JP', 'city': ' ', 'count': 3325112, 'locations': 1524, 'firstUpdated': '2023-07-14 17:00:00+00', 'lastUpdated': '2023-08-22 02:00:00+00', 'parameters': ['co', 'no', 'no2', 'nox', 'pm25', 'so2']}, {'country': 'US', 'city': '007', 'count': 14461, 'locations': 1, 'firstUpdated': '2021-08-12 16:00:00+00', 'lastUpdated': '2023-08-21 03:00:00+00', 'parameters': ['pm25']}, {'country': 'US', 'city': '015', 'count': 533, 'locations': 1, 'firstUpdated': '2023-07-20 15:00:00+00', 'lastUpdated': '2023-08-21 03:00:00+00', 'parameters': ['pm25']}, {'country': 'US', 'city': '025', 'count': 354, 'locations': 1, 'firstUpdated': '2023-08-03 21:00:00+00', 'lastUpdated': '2023-08-21 03:00:00+00', 'parameters': ['pm25']}, {'country': 'US', 'city': '037', 'count': 10921, 'locations': 1, 'firstUpdated': '2017-09-26 18:00:00+00', 'lastUpdated': '2023-08-21 03:00:00+00', 'parameters': ['pm25']}, {'country': 'US', 'city': '039', 'count': 997, 'locations': 2, 'firstUpdated': '2023-07-28 20:00:00+00', 'lastUpdated': '2023-08-21 03:00:00+00', 'parameters': ['pm25']}, {'country': 'US', 'city': '047', 'count': 14266, 'locations': 1, 'firstUpdated': '2021-08-12 13:00:00+00', 'lastUpdated': '2023-08-21 03:00:00+00', 'parameters': ['pm25']}, {'country': 'US', 'city': '051', 'count': 1648, 'locations': 1, 'firstUpdated': '2022-10-04 18:00:00+00', 'lastUpdated': '2023-08-21 03:00:00+00', 'parameters': ['pm25']}, {'country': 'US', 'city': '057', 'count': 160, 'locations': 1, 'firstUpdated': '2023-08-09 20:00:00+00', 'lastUpdated': '2023-08-21 03:00:00+00', 'parameters': ['pm25']}, {'country': 'US', 'city': 'Aberdeen', 'count': 48822, 'locations': 1, 'firstUpdated': '2016-03-06 19:00:00+00', 'lastUpdated': '2023-08-21 03:00:00+00', 'parameters': ['pm25']}, {'country': 'CI', 'city': 'Abidjan', 'count': 26300, 'locations': 1, 'firstUpdated': '2020-03-15 21:00:00+00', 'lastUpdated': '2023-08-22 03:00:00+00', 'parameters': ['pm25']}, {'country': 'AE', 'city': 'Abu Al Abyad', 'count': 4567, 'locations': 1, 'firstUpdated': '2022-10-28 16:00:00+00', 'lastUpdated': '2023-07-13 08:00:00+00', 'parameters': ['co', 'no2', 'pm10', 'so2']}, {'country': 'AE', 'city': 'Abu Dhabi', 'count': 112646, 'locations': 9, 'firstUpdated': '2017-12-26 23:00:00+00', 'lastUpdated': '2023-08-22 03:00:00+00', 'parameters': ['co', 'no2', 'o3', 'pm10', 'pm25', 'so2']}, {'country': 'GH', 'city': 'Accra', 'count': 25159, 'locations': 1, 'firstUpdated': '2020-05-01 01:00:00+00', 'lastUpdated': '2023-08-18 12:00:00+00', 'parameters': ['pm25']}, {'country': 'ES', 'city': 'A Coruña', 'count': 808940, 'locations': 20, 'firstUpdated': '2016-11-17 23:00:00+00', 'lastUpdated': '2023-08-22 01:00:00+00', 'parameters': ['co', 'no', 'no2', 'o3', 'pm10', 'pm25', 'so2']}, {'country': 'US', 'city': 'ADA', 'count': 32125, 'locations': 1, 'firstUpdated': '2019-08-09 20:00:00+00', 'lastUpdated': '2023-08-21 03:00:00+00', 'parameters': ['pm10', 'pm25']}, {'country': 'US', 'city': 'ADAIR', 'count': 201843, 'locations': 1, 'firstUpdated': '2016-03-06 19:00:00+00', 'lastUpdated': '2023-08-21 03:00:00+00', 'parameters': ['co', 'no', 'o3', 'pm10', 'pm25', 'so2']}, {'country': 'US', 'city': 'ADAMS', 'count': 68389, 'locations': 2, 'firstUpdated': '2016-03-06 19:00:00+00', 'lastUpdated': '2023-08-21 03:00:00+00', 'parameters': ['pm10', 'pm25']}, {'country': 'TR', 'city': 'Adana', 'count': 274717, 'locations': 8, 'firstUpdated': '2016-12-23 00:00:00+00', 'lastUpdated': '2023-08-18 12:00:00+00', 'parameters': ['co', 'no2', 'o3', 'pm10', 'pm25', 'so2']}, {'country': 'ET', 'city': 'Addis Ababa', 'count': 37262, 'locations': 1, 'firstUpdated': '2016-11-08 18:00:00+00', 'lastUpdated': '2021-09-08 18:00:00+00', 'parameters': ['pm25']}, {'country': 'AU', 'city': 'Adelaide', 'count': 33439, 'locations': 2, 'firstUpdated': '2019-12-23 15:30:00+00', 'lastUpdated': '2023-05-15 05:30:00+00', 'parameters': ['co', 'no2', 'pm10', 'pm25']}, {'country': 'TR', 'city': 'Adıyaman', 'count': 7250, 'locations': 1, 'firstUpdated': '2022-10-25 14:00:00+00', 'lastUpdated': '2023-08-18 12:00:00+00', 'parameters': ['pm10', 'so2']}, {'country': 'US', 'city': 'Adrian', 'count': 80631, 'locations': 1, 'firstUpdated': '2016-03-06 19:00:00+00', 'lastUpdated': '2023-08-21 03:00:00+00', 'parameters': ['o3', 'pm25']}, {'country': 'MK', 'city': 'Aerodrom Municipality', 'count': 195230, 'locations': 1, 'firstUpdated': '2016-12-10 20:00:00+00', 'lastUpdated': '2023-08-22 01:00:00+00', 'parameters': ['co', 'no', 'no2', 'o3', 'pm10', 'pm25', 'so2']}, {'country': 'TR', 'city': 'Afyonkarahisar', 'count': 29497, 'locations': 3, 'firstUpdated': '2022-10-25 14:00:00+00', 'lastUpdated': '2023-08-18 12:00:00+00', 'parameters': ['co', 'no2', 'o3', 'pm10', 'so2']}, {'country': 'TR', 'city': 'Ağrı', 'count': 114330, 'locations': 3, 'firstUpdated': '2016-12-23 00:00:00+00', 'lastUpdated': '2023-08-18 12:00:00+00', 'parameters': ['co', 'no2', 'o3', 'pm10', 'so2']}, {'country': 'MX', 'city': 'Aguascalientes', 'count': 44914, 'locations': 4, 'firstUpdated': '2020-10-16 01:00:00+00', 'lastUpdated': '2023-08-18 11:00:00+00', 'parameters': ['co', 'no', 'no2', 'nox', 'o3', 'pm10', 'pm25', 'so2']}, {'country': 'FR', 'city': 'Ain', 'count': 245243, 'locations': 2, 'firstUpdated': '2016-11-21 12:00:00+00', 'lastUpdated': '2023-08-21 17:00:00+00', 'parameters': ['no', 'no2', 'o3', 'pm10', 'pm25']}, {'country': 'US', 'city': 'AIR', 'count': 771, 'locations': 7, 'firstUpdated': '2023-07-27 06:00:00+00', 'lastUpdated': '2023-08-21 03:00:00+00', 'parameters': ['pm25']}, {'country': 'FR', 'city': 'Aisne', 'count': 161515, 'locations': 2, 'firstUpdated': '2017-02-18 08:00:00+00', 'lastUpdated': '2023-08-21 17:00:00+00', 'parameters': ['no', 'no2', 'o3', 'pm10', 'pm25']}, {'country': 'HU', 'city': 'Ajka', 'count': 1507, 'locations': 1, 'firstUpdated': '2023-03-31 15:00:00+00', 'lastUpdated': '2023-08-18 12:00:00+00', 'parameters': ['co', 'no2', 'o3', 'pm10', 'pm25', 'so2']}, {'country': 'US', 'city': 'Akron', 'count': 136251, 'locations': 2, 'firstUpdated': '2016-03-06 19:00:00+00', 'lastUpdated': '2023-08-21 03:00:00+00', 'parameters': ['o3', 'pm10', 'pm25', 'so2']}, {'country': 'TR', 'city': 'Aksaray', 'count': 18164, 'locations': 1, 'firstUpdated': '2022-10-25 14:00:00+00', 'lastUpdated': '2023-08-18 12:00:00+00', 'parameters': ['co', 'no2', 'o3', 'pm10', 'pm25', 'so2']}, {'country': 'IS', 'city': 'Akureyri', 'count': 45030, 'locations': 1, 'firstUpdated': '2020-02-28 14:00:00+00', 'lastUpdated': '2023-08-18 12:00:00+00', 'parameters': ['no', 'no2', 'pm10', 'so2']}, {'country': 'AE', 'city': 'Al Ain', 'count': 28581, 'locations': 6, 'firstUpdated': '2022-10-28 16:00:00+00', 'lastUpdated': '2023-07-13 08:00:00+00', 'parameters': ['co', 'no2', 'o3', 'pm10', 'so2']}, {'country': 'US', 'city': 'ALAMEDA', 'count': 149750, 'locations': 1, 'firstUpdated': '2016-07-25 22:00:00+00', 'lastUpdated': '2023-06-07 07:00:00+00', 'parameters': ['bc', 'co', 'no', 'no2', 'nox', 'o3', 'pm25']}, {'country': 'RO', 'city': 'Alba', 'count': 53966, 'locations': 2, 'firstUpdated': '2020-04-20 18:00:00+00', 'lastUpdated': '2023-06-21 12:00:00+00', 'parameters': ['no2', 'o3', 'pm10']}, {'country': 'US', 'city': 'Albany', 'count': 33536, 'locations': 1, 'firstUpdated': '2019-04-05 17:00:00+00', 'lastUpdated': '2023-08-20 23:00:00+00', 'parameters': ['pm10', 'pm25']}, {'country': 'US', 'city': 'Albany-Lebanon', 'count': 87915, 'locations': 2, 'firstUpdated': '2016-03-10 08:00:00+00', 'lastUpdated': '2023-08-21 03:00:00+00', 'parameters': ['pm25']}, {'country': 'US', 'city': 'Albany-Schenectady-Troy', 'count': 107087, 'locations': 3, 'firstUpdated': '2016-03-10 07:00:00+00', 'lastUpdated': '2023-08-21 03:00:00+00', 'parameters': ['o3', 'pm25']}, {'country': 'CA', 'city': 'ALBERTA', 'count': 1711495, 'locations': 31, 'firstUpdated': '2016-03-10 07:00:00+00', 'lastUpdated': '2023-08-21 03:00:00+00', 'parameters': ['co', 'no', 'no2', 'o3', 'pm25', 'so2']}, {'country': 'US', 'city': 'Albuquerque', 'count': 821052, 'locations': 7, 'firstUpdated': '2016-03-06 19:00:00+00', 'lastUpdated': '2023-08-21 03:00:00+00', 'parameters': ['co', 'no', 'no2', 'nox', 'o3', 'pm10', 'pm25', 'so2']}, {'country': 'IT', 'city': 'Alessandria', 'count': 116589, 'locations': 3, 'firstUpdated': '2020-05-06 16:00:00+00', 'lastUpdated': '2023-08-22 01:00:00+00', 'parameters': ['no2', 'o3', 'pm10', 'pm25']}, {'country': 'NO', 'city': 'Ålesund', 'count': 126625, 'locations': 2, 'firstUpdated': '2016-12-02 11:00:00+00', 'lastUpdated': '2023-08-18 11:00:00+00', 'parameters': ['no2', 'pm10']}, {'country': 'US', 'city': 'ALEXANDER', 'count': 53128, 'locations': 1, 'firstUpdated': '2016-03-28 21:00:00+00', 'lastUpdated': '2023-08-21 03:00:00+00', 'parameters': ['o3', 'pm10']}, {'country': 'ZA', 'city': 'Alfred Nzo', 'count': 30204, 'locations': 5, 'firstUpdated': '2022-08-02 10:00:00+00', 'lastUpdated': '2023-08-18 12:00:00+00', 'parameters': ['co', 'no', 'no2', 'nox', 'o3', 'pm10', 'pm25', 'so2']}, {'country': 'ES', 'city': 'Alicante/Alacant', 'count': 685755, 'locations': 10, 'firstUpdated': '2016-11-18 07:00:00+00', 'lastUpdated': '2023-08-22 00:00:00+00', 'parameters': ['co', 'no', 'no2', 'o3', 'pm10', 'pm25', 'so2']}, {'country': 'US', 'city': 'Allegan', 'count': 50628, 'locations': 1, 'firstUpdated': '2016-04-04 14:00:00+00', 'lastUpdated': '2023-08-21 03:00:00+00', 'parameters': ['o3', 'pm25']}, {'country': 'US', 'city': 'Allentown-Bethlehem-Easton', 'count': 173030, 'locations': 2, 'firstUpdated': '2016-03-06 19:00:00+00', 'lastUpdated': '2023-08-21 03:00:00+00', 'parameters': ['o3', 'pm25']}, {'country': 'FR', 'city': 'Allier', 'count': 133239, 'locations': 1, 'firstUpdated': '2016-11-21 12:00:00+00', 'lastUpdated': '2023-08-21 17:00:00+00', 'parameters': ['no', 'no2', 'o3', 'pm10', 'pm25']}, {'country': 'ES', 'city': 'Almería', 'count': 928429, 'locations': 10, 'firstUpdated': '2017-01-29 18:00:00+00', 'lastUpdated': '2023-08-21 18:00:00+00', 'parameters': ['co', 'no', 'no2', 'o3', 'pm10', 'pm25', 'so2']}, {'country': 'MX', 'city': 'Almoloya de Juárez', 'count': 10364, 'locations': 1, 'firstUpdated': '2021-09-07 21:00:00+00', 'lastUpdated': '2023-08-18 10:00:00+00', 'parameters': ['co', 'no', 'no2', 'nox', 'o3', 'pm10', 'pm25', 'so2']}, {'country': 'FR', 'city': 'Alpes-de-Haute-Provence', 'count': 227862, 'locations': 2, 'firstUpdated': '2016-11-21 11:00:00+00', 'lastUpdated': '2023-08-21 17:00:00+00', 'parameters': ['no', 'no2', 'o3', 'pm10', 'pm25']}, {'country': 'FR', 'city': 'Alpes-Maritimes', 'count': 520658, 'locations': 9, 'firstUpdated': '2016-11-21 11:00:00+00', 'lastUpdated': '2023-08-21 17:00:00+00', 'parameters': ['no', 'no2', 'o3', 'pm10', 'pm25']}, {'country': 'AE', 'city': 'Al Ruways Industrial City', 'count': 5694, 'locations': 1, 'firstUpdated': '2022-10-28 16:00:00+00', 'lastUpdated': '2023-07-13 08:00:00+00', 'parameters': ['co', 'no2', 'o3', 'pm10', 'so2']}, {'country': 'CL', 'city': 'Alto Hospicio', 'count': 2425, 'locations': 1, 'firstUpdated': '2022-10-03 18:00:00+00', 'lastUpdated': '2023-08-22 01:00:00+00', 'parameters': ['pm25']}, {'country': 'AU', 'city': 'Altona North', 'count': 36497, 'locations': 1, 'firstUpdated': '2020-10-21 01:00:00+00', 'lastUpdated': '2023-04-04 21:00:00+00', 'parameters': ['no2', 'pm25', 'so2']}, {'country': 'US', 'city': 'Altoona', 'count': 88972, 'locations': 1, 'firstUpdated': '2016-03-06 19:00:00+00', 'lastUpdated': '2023-08-21 03:00:00+00', 'parameters': ['o3', 'pm25']}, {'country': 'MX', 'city': 'Álvaro Obregón', 'count': 37069, 'locations': 1, 'firstUpdated': '2020-10-16 01:00:00+00', 'lastUpdated': '2023-08-18 11:00:00+00', 'parameters': ['co', 'no', 'no2', 'nox', 'o3', 'pm10', 'pm25', 'so2']}, {'country': 'LT', 'city': 'Alytus', 'count': 11565, 'locations': 1, 'firstUpdated': '2017-09-26 23:00:00+00', 'lastUpdated': '2023-08-17 23:00:00+00', 'parameters': ['o3']}, {'country': 'US', 'city': 'AMADOR', 'count': 27306, 'locations': 1, 'firstUpdated': '2019-04-18 17:00:00+00', 'lastUpdated': '2023-08-21 03:00:00+00', 'parameters': ['o3']}, {'country': 'US', 'city': 'Amarillo', 'count': 51850, 'locations': 2, 'firstUpdated': '2016-03-06 19:00:00+00', 'lastUpdated': '2023-08-21 03:00:00+00', 'parameters': ['o3', 'pm25']}, {'country': 'TR', 'city': 'Amasya', 'count': 186587, 'locations': 4, 'firstUpdated': '2016-12-23 00:00:00+00', 'lastUpdated': '2023-08-18 12:00:00+00', 'parameters': ['co', 'no2', 'o3', 'pm10', 'pm25', 'so2']}, {'country': 'BR', 'city': 'Americana', 'count': 34528, 'locations': 1, 'firstUpdated': '2017-08-10 23:00:00+00', 'lastUpdated': '2023-04-05 15:00:00+00', 'parameters': ['o3', 'pm10']}, {'country': 'US', 'city': 'Americus', 'count': 33827, 'locations': 1, 'firstUpdated': '2016-03-06 19:00:00+00', 'lastUpdated': '2023-08-21 03:00:00+00', 'parameters': ['o3']}, {'country': 'JO', 'city': 'Amman', 'count': 33657, 'locations': 1, 'firstUpdated': '2019-10-21 02:00:00+00', 'lastUpdated': '2023-08-18 12:00:00+00', 'parameters': ['o3', 'pm25']}, {'country': 'NL', 'city': 'Amsterdam', 'count': 1528805, 'locations': 12, 'firstUpdated': '2016-01-30 01:00:00+00', 'lastUpdated': '2023-08-18 11:00:00+00', 'parameters': ['co', 'no', 'no2', 'o3', 'pm10', 'pm25', 'so2']}, {'country': 'US', 'city': 'Anchorage', 'count': 190950, 'locations': 3, 'firstUpdated': '2016-03-06 19:00:00+00', 'lastUpdated': '2023-08-21 03:00:00+00', 'parameters': ['co', 'pm10', 'pm25']}, {'country': 'IT', 'city': 'Ancona', 'count': 325556, 'locations': 4, 'firstUpdated': '2020-05-06 16:00:00+00', 'lastUpdated': '2023-08-22 01:00:00+00', 'parameters': ['co', 'no2', 'o3', 'pm10', 'pm25', 'so2']}, {'country': 'CL', 'city': 'Andacollo', 'count': 88989, 'locations': 3, 'firstUpdated': '2016-01-30 01:00:00+00', 'lastUpdated': '2023-08-22 01:00:00+00', 'parameters': ['pm10']}, {'country': 'US', 'city': 'Anderson', 'count': 65076, 'locations': 2, 'firstUpdated': '2016-03-06 19:00:00+00', 'lastUpdated': '2023-08-21 03:00:00+00', 'parameters': ['o3', 'pm25']}, {'country': 'US', 'city': 'ANDERSON', 'count': 16965, 'locations': 1, 'firstUpdated': '2020-03-04 18:00:00+00', 'lastUpdated': '2023-08-21 03:00:00+00', 'parameters': ['o3']}, {'country': 'US', 'city': 'ANDREW', 'count': 32722, 'locations': 1, 'firstUpdated': '2016-03-06 19:00:00+00', 'lastUpdated': '2023-08-21 03:00:00+00', 'parameters': ['o3']}, {'country': 'TR', 'city': 'Ankara', 'count': 400706, 'locations': 18, 'firstUpdated': '2016-12-23 00:00:00+00', 'lastUpdated': '2023-08-18 12:00:00+00', 'parameters': ['co', 'no2', 'o3', 'pm10', 'pm25', 'so2']}, {'country': 'US', 'city': 'Ann Arbor', 'count': 114150, 'locations': 2, 'firstUpdated': '2016-03-06 19:00:00+00', 'lastUpdated': '2023-08-21 03:00:00+00', 'parameters': ['o3', 'pm25']}, {'country': 'TR', 'city': 'Antalya', 'count': 102717, 'locations': 8, 'firstUpdated': '2022-10-25 14:00:00+00', 'lastUpdated': '2023-08-18 12:00:00+00', 'parameters': ['co', 'no2', 'o3', 'pm10', 'pm25', 'so2']}, {'country': 'CL', 'city': 'Antofagasta', 'count': 125084, 'locations': 1, 'firstUpdated': '2016-01-30 01:00:00+00', 'lastUpdated': '2023-08-22 01:00:00+00', 'parameters': ['pm10', 'pm25', 'so2']}, {'country': 'BE', 'city': 'Antwerpen', 'count': 452051, 'locations': 18, 'firstUpdated': '2016-11-17 23:00:00+00', 'lastUpdated': '2023-08-22 01:00:00+00', 'parameters': ['co', 'no2', 'o3', 'pm10', 'pm25', 'so2']}, {'country': 'NL', 'city': 'Antwerpen', 'count': 33819, 'locations': 1, 'firstUpdated': '2016-11-17 23:00:00+00', 'lastUpdated': '2023-08-22 01:00:00+00', 'parameters': ['no2', 'o3', 'pm10', 'pm25', 'so2']}, {'country': 'MX', 'city': 'Apizaco', 'count': 29006, 'locations': 1, 'firstUpdated': '2020-10-16 01:00:00+00', 'lastUpdated': '2023-08-18 11:00:00+00', 'parameters': ['co', 'no', 'no2', 'nox', 'o3', 'pm10', 'pm25', 'so2']}, {'country': 'MX', 'city': 'Apodaca', 'count': 30032, 'locations': 1, 'firstUpdated': '2020-10-16 00:00:00+00', 'lastUpdated': '2023-08-18 11:00:00+00', 'parameters': ['co', 'no', 'no2', 'nox', 'o3', 'pm10', 'pm25', 'so2']}, {'country': 'US', 'city': 'Appleton', 'count': 67819, 'locations': 1, 'firstUpdated': '2016-03-06 19:00:00+00', 'lastUpdated': '2023-08-21 03:00:00+00', 'parameters': ['o3', 'pm25']}, {'country': 'ES', 'city': 'Araba/Álava', 'count': 516138, 'locations': 7, 'firstUpdated': '2016-11-17 23:00:00+00', 'lastUpdated': '2023-08-21 18:00:00+00', 'parameters': ['co', 'no', 'no2', 'o3', 'pm10', 'pm25', 'so2']}, {'country': 'BR', 'city': 'Araçatuba', 'count': 30048, 'locations': 1, 'firstUpdated': '2017-07-01 00:00:00+00', 'lastUpdated': '2023-04-05 15:00:00+00', 'parameters': ['o3', 'pm10']}, {'country': 'RO', 'city': 'Arad', 'count': 74464, 'locations': 3, 'firstUpdated': '2020-04-20 18:00:00+00', 'lastUpdated': '2023-08-22 01:00:00+00', 'parameters': ['co', 'no2', 'o3', 'pm10', 'so2']}, {'country': 'US', 'city': 'ARAPAHOE', 'count': 41843, 'locations': 1, 'firstUpdated': '2016-03-06 19:00:00+00', 'lastUpdated': '2023-08-21 03:00:00+00', 'parameters': ['o3']}, {'country': 'BR', 'city': 'Araraquara', 'count': 39681, 'locations': 1, 'firstUpdated': '2017-07-01 00:00:00+00', 'lastUpdated': '2023-04-05 15:00:00+00', 'parameters': ['no2', 'o3', 'pm10']}, {'country': 'US', 'city': 'ARCHULETA', 'count': 73800, 'locations': 1, 'firstUpdated': '2017-12-20 04:00:00+00', 'lastUpdated': '2023-08-21 03:00:00+00', 'parameters': ['no', 'no2', 'nox', 'o3', 'so2']}, {'country': 'TR', 'city': 'Ardahan', 'count': 14447, 'locations': 1, 'firstUpdated': '2022-10-25 14:00:00+00', 'lastUpdated': '2023-08-18 12:00:00+00', 'parameters': ['no2', 'o3', 'pm10', 'so2']}, {'country': 'FR', 'city': 'Ardèche', 'count': 32512, 'locations': 1, 'firstUpdated': '2016-11-23 00:00:00+00', 'lastUpdated': '2023-08-21 17:00:00+00', 'parameters': ['so2']}, {'country': 'FR', 'city': 'Ardennes', 'count': 151043, 'locations': 2, 'firstUpdated': '2016-11-21 12:00:00+00', 'lastUpdated': '2023-08-21 17:00:00+00', 'parameters': ['no', 'no2', 'o3', 'pm10', 'pm25']}, {'country': 'US', 'city': 'Ardmore', 'count': 120100, 'locations': 2, 'firstUpdated': '2016-03-10 07:00:00+00', 'lastUpdated': '2023-08-21 03:00:00+00', 'parameters': ['o3', 'pm10', 'pm25']}, {'country': 'IT', 'city': 'Arezzo', 'count': 97014, 'locations': 3, 'firstUpdated': '2020-05-06 14:00:00+00', 'lastUpdated': '2023-08-22 00:00:00+00', 'parameters': ['co', 'no', 'no2', 'o3', 'pm10', 'pm25']}, {'country': 'RO', 'city': 'Argeş', 'count': 145552, 'locations': 4, 'firstUpdated': '2020-04-20 18:00:00+00', 'lastUpdated': '2023-08-22 01:00:00+00', 'parameters': ['co', 'no2', 'o3', 'so2']}, {'country': 'CL', 'city': 'Arica', 'count': 27975, 'locations': 1, 'firstUpdated': '2019-01-24 17:00:00+00', 'lastUpdated': '2023-08-22 01:00:00+00', 'parameters': ['pm25']}, {'country': 'TT', 'city': 'Arima', 'count': 2599, 'locations': 1, 'firstUpdated': '2023-03-31 15:00:00+00', 'lastUpdated': '2023-06-16 00:00:00+00', 'parameters': ['co', 'no2', 'o3', 'pm10', 'pm25', 'so2']}, {'country': 'US', 'city': 'Arkadelphia', 'count': 32480, 'locations': 1, 'firstUpdated': '2016-03-13 08:00:00+00', 'lastUpdated': '2023-08-21 03:00:00+00', 'parameters': ['o3']}, {'country': 'GB', 'city': 'Armagh', 'count': 3324, 'locations': 1, 'firstUpdated': '2022-10-04 19:00:00+00', 'lastUpdated': '2023-08-18 12:00:00+00', 'parameters': ['no2', 'pm10']}, {'country': 'CA', 'city': 'AROOSTOOK', 'count': 51998, 'locations': 1, 'firstUpdated': '2016-03-07 15:00:00+00', 'lastUpdated': '2023-08-21 03:00:00+00', 'parameters': ['pm10', 'pm25']}, {'country': 'US', 'city': 'AROOSTOOK', 'count': 308865, 'locations': 2, 'firstUpdated': '2016-03-06 19:00:00+00', 'lastUpdated': '2023-08-21 03:00:00+00', 'parameters': ['co', 'no', 'no2', 'nox', 'o3', 'pm10', 'pm25', 'so2']}]}\n",
      "https://api.openaq.org/v2/cities\n"
     ]
    }
   ],
   "source": [
    "import requests\n",
    "a=requests.get('https://api.openaq.org/v2/cities')\n",
    "print(a.status_code)\n",
    "print(a.json())\n",
    "print(a.url)"
   ]
  },
  {
   "cell_type": "code",
   "execution_count": 20,
   "id": "85e5d3ba",
   "metadata": {},
   "outputs": [
    {
     "name": "stdout",
     "output_type": "stream",
     "text": [
      "200\n",
      "{'meta': {'name': 'openaq-api', 'license': '', 'website': '/', 'page': 1, 'limit': 1, 'found': 1}, 'results': [{'country': 'AE', 'city': 'Abu Dhabi', 'count': 112646, 'locations': 9, 'firstUpdated': '2017-12-26 23:00:00+00', 'lastUpdated': '2023-08-22 03:00:00+00', 'parameters': ['co', 'no2', 'o3', 'pm10', 'pm25', 'so2']}]}\n",
      "https://api.openaq.org/v2/cities?city=Abu+Dhabi&limit=1\n"
     ]
    }
   ],
   "source": [
    "# if we want to fetch only country AE data and city is Abu dhabi\n",
    "##import requests\n",
    "a=requests.get('https://api.openaq.org/v2/cities',params={\"city\":\"Abu Dhabi\",\"limit\":1})\n",
    "print(a.status_code)\n",
    "print(a.json())\n",
    "print(a.url)"
   ]
  },
  {
   "cell_type": "markdown",
   "id": "c7176461",
   "metadata": {},
   "source": [
    "# assigment question"
   ]
  },
  {
   "cell_type": "code",
   "execution_count": 31,
   "id": "b8401e02",
   "metadata": {},
   "outputs": [
    {
     "name": "stdout",
     "output_type": "stream",
     "text": [
      "200\n",
      "https://api.codingninjas.com:443/api/v3/courses?id=19\n",
      "Machine Learning\n"
     ]
    }
   ],
   "source": [
    "a1=requests.get(' http://api.codingninjas.com/api/v3/courses',params={\"id\":19})\n",
    "python_data=a1.json()\n",
    "#print(a1.status_code)\n",
    "#print(a1.url)\n",
    "for i in python_data['data']['courses']:\n",
    "    if i['id']==19:\n",
    "        print(i['title'])"
   ]
  },
  {
   "cell_type": "code",
   "execution_count": 39,
   "id": "63652929",
   "metadata": {},
   "outputs": [
    {
     "name": "stdout",
     "output_type": "stream",
     "text": [
      "200\n",
      "https://api.openaq.org/v1/cities?country=AU\n",
      "2\n"
     ]
    }
   ],
   "source": [
    "a2=requests.get('https://api.openaq.org/v1/cities',params={\"country\":\"AU\"})\n",
    "print(a2.status_code)\n",
    "print(a2.url)\n",
    "python_data=a2.json()\n",
    "count=0\n",
    "#print(python_data[\"results\"])\n",
    "for i in python_data[\"results\"]:\n",
    "    if i[\"country\"]==\"AU\":\n",
    "        count+=1\n",
    "print(count)\n",
    "        "
   ]
  },
  {
   "cell_type": "code",
   "execution_count": 45,
   "id": "83afa812",
   "metadata": {},
   "outputs": [
    {
     "name": "stdout",
     "output_type": "stream",
     "text": [
      "200\n",
      "https://api.openaq.org/v1/cities\n",
      "JP  \n",
      "US 007\n",
      "US 015\n",
      "US 025\n",
      "US 037\n",
      "US 039\n",
      "US 047\n",
      "US 051\n",
      "US 057\n",
      "US Aberdeen\n",
      "CI Abidjan\n",
      "AE Abu Al Abyad\n",
      "AE Abu Dhabi\n",
      "GH Accra\n",
      "ES A Coruña\n",
      "US ADA\n",
      "US ADAIR\n",
      "US ADAMS\n",
      "TR Adana\n",
      "ET Addis Ababa\n",
      "AU Adelaide\n",
      "TR Adıyaman\n",
      "US Adrian\n",
      "MK Aerodrom Municipality\n",
      "TR Afyonkarahisar\n",
      "TR Ağrı\n",
      "MX Aguascalientes\n",
      "FR Ain\n",
      "US AIR\n",
      "FR Aisne\n",
      "HU Ajka\n",
      "US Akron\n",
      "TR Aksaray\n",
      "IS Akureyri\n",
      "AE Al Ain\n",
      "US ALAMEDA\n",
      "RO Alba\n",
      "US Albany\n",
      "US Albany-Lebanon\n",
      "US Albany-Schenectady-Troy\n",
      "CA ALBERTA\n",
      "US Albuquerque\n",
      "IT Alessandria\n",
      "NO Ålesund\n",
      "US ALEXANDER\n",
      "ZA Alfred Nzo\n",
      "ES Alicante/Alacant\n",
      "US Allegan\n",
      "US Allentown-Bethlehem-Easton\n",
      "FR Allier\n",
      "ES Almería\n",
      "MX Almoloya de Juárez\n",
      "FR Alpes-de-Haute-Provence\n",
      "FR Alpes-Maritimes\n",
      "AE Al Ruways Industrial City\n",
      "CL Alto Hospicio\n",
      "AU Altona North\n",
      "US Altoona\n",
      "MX Álvaro Obregón\n",
      "LT Alytus\n",
      "US AMADOR\n",
      "US Amarillo\n",
      "TR Amasya\n",
      "BR Americana\n",
      "US Americus\n",
      "JO Amman\n",
      "NL Amsterdam\n",
      "US Anchorage\n",
      "IT Ancona\n",
      "CL Andacollo\n",
      "US Anderson\n",
      "US ANDERSON\n",
      "US ANDREW\n",
      "TR Ankara\n",
      "US Ann Arbor\n",
      "TR Antalya\n",
      "CL Antofagasta\n",
      "NL Antwerpen\n",
      "BE Antwerpen\n",
      "MX Apizaco\n",
      "MX Apodaca\n",
      "US Appleton\n",
      "ES Araba/Álava\n",
      "BR Araçatuba\n",
      "RO Arad\n",
      "US ARAPAHOE\n",
      "BR Araraquara\n",
      "US ARCHULETA\n",
      "TR Ardahan\n",
      "FR Ardèche\n",
      "FR Ardennes\n",
      "US Ardmore\n",
      "IT Arezzo\n",
      "RO Argeş\n",
      "CL Arica\n",
      "TT Arima\n",
      "US Arkadelphia\n",
      "GB Armagh\n",
      "CA AROOSTOOK\n",
      "US AROOSTOOK\n"
     ]
    }
   ],
   "source": [
    "a3=requests.get('https://api.openaq.org/v1/cities')\n",
    "print(a3.status_code)\n",
    "print(a3.url)\n",
    "python_data=a3.json()\n",
    "count=0\n",
    "#print(python_data[\"results\"])\n",
    "for i in python_data[\"results\"]:\n",
    "        print(i['country'],i['city'])\n",
    "        "
   ]
  },
  {
   "cell_type": "code",
   "execution_count": 140,
   "id": "889a17ca",
   "metadata": {},
   "outputs": [
    {
     "name": "stdout",
     "output_type": "stream",
     "text": [
      "200\n",
      "https://api.openaq.org/v1/cities?country=BE&limit=5&order_by=city\n",
      " \n",
      "007\n",
      "015\n",
      "025\n",
      "037\n"
     ]
    }
   ],
   "source": [
    "import requests\n",
    "m=requests.get('https://api.openaq.org/v1/cities',params={\"country\":\"BE\",\"limit\":5,\"order_by\":\"city\"})\n",
    "print(m.status_code)\n",
    "print(m.url)\n",
    "python_data=m.json()\n",
    "python_data=python_data['results']\n",
    "for i in python_data:\n",
    "    print(i['city'])\n",
    "     "
   ]
  },
  {
   "cell_type": "markdown",
   "id": "a1e33213",
   "metadata": {},
   "source": [
    "# work on meta weather API"
   ]
  },
  {
   "cell_type": "code",
   "execution_count": 67,
   "id": "138d7a30",
   "metadata": {},
   "outputs": [
    {
     "name": "stdout",
     "output_type": "stream",
     "text": [
      "401\n",
      "https://api.openweathermap.org/data/2.5/weather?query=Hyderabad\n",
      "{'cod': 401, 'message': 'Invalid API key. Please see https://openweathermap.org/faq#error401 for more info.'}\n"
     ]
    }
   ],
   "source": [
    "import requests\n",
    "m=requests.get('https://api.openweathermap.org/data/2.5/weather',params = {\"query\" : \"Hyderabad\"})\n",
    "print(m.status_code)\n",
    "print(m.url)\n",
    "print(m.json())"
   ]
  },
  {
   "cell_type": "markdown",
   "id": "c76fc786",
   "metadata": {},
   "source": [
    "# now use NASA API\n",
    "\n"
   ]
  },
  {
   "cell_type": "code",
   "execution_count": 70,
   "id": "b3186255",
   "metadata": {},
   "outputs": [
    {
     "name": "stdout",
     "output_type": "stream",
     "text": [
      "200\n",
      "https://api.nasa.gov/planetary/apod?api_key=DEMO_KEY\n"
     ]
    }
   ],
   "source": [
    "n=requests.get('https://api.nasa.gov/planetary/apod',params={\"api_key\":\"DEMO_KEY\"})\n",
    "print(n.status_code)\n",
    "print(n.url)"
   ]
  },
  {
   "cell_type": "code",
   "execution_count": 4,
   "id": "660ddf2d",
   "metadata": {},
   "outputs": [
    {
     "name": "stdout",
     "output_type": "stream",
     "text": [
      "401\n",
      "https://holidayapi.com/v1/holidays?Api_Key=9beb3a20-b0d4-43f1-b5a5-621add382e0e\n"
     ]
    }
   ],
   "source": [
    "import requests\n",
    "h=requests.get('https://holidayapi.com/v1/holidays',params={\"Api_Key\":\"9beb3a20-b0d4-43f1-b5a5-621add382e0e\"})\n",
    "print(h.status_code)\n",
    "print(h.url)\n",
    "python_data=h.json()\n",
    "for i in python_data['Year']:\n",
    "    print(i)\n"
   ]
  },
  {
   "cell_type": "code",
   "execution_count": 87,
   "id": "00a3a886",
   "metadata": {},
   "outputs": [
    {
     "name": "stdout",
     "output_type": "stream",
     "text": [
      "https://holidayapi.com/v1/holidays?key=9beb3a20-b0d4-43f1-b5a5-621add382e0e&country=IN&year=2022&month=10&day=2\n",
      "Mahatma Gandhi's Birthday\n"
     ]
    }
   ],
   "source": [
    "import requests\n",
    "res=requests.get('https://holidayapi.com/v1/holidays' , params ={\"key\" : \"9beb3a20-b0d4-43f1-b5a5-621add382e0e\",\"country\":\"IN\", \"year\" : 2022, \"month\" : 10, \"day\" : 2})\n",
    "# print(res.status_code)\n",
    "print(res.url)\n",
    "a=res.json()\n",
    "print(a['holidays'][0]['name'])"
   ]
  },
  {
   "cell_type": "code",
   "execution_count": 89,
   "id": "73285b94",
   "metadata": {},
   "outputs": [
    {
     "name": "stdout",
     "output_type": "stream",
     "text": [
      "Hyderabad\n",
      "Temperature: 28.23°C\n",
      "Weather Report: broken clouds\n"
     ]
    }
   ],
   "source": [
    "import requests\n",
    "\n",
    "API_KEY = '2c3cc91cde7362d072ddab63b3282ce5'\n",
    "CITY_NAME = 'Hyderabad'\n",
    "API_URL = f'https://api.openweathermap.org/data/2.5/weather?q={CITY_NAME}&appid={API_KEY}&units=metric'\n",
    "\n",
    "response = requests.get(API_URL)\n",
    "\n",
    "if response.status_code == 200:\n",
    "    data = response.json()\n",
    "    city_name = data['name']\n",
    "    temperature = data['main']['temp']\n",
    "    weather_report = data['weather'][0]['description']\n",
    "\n",
    "    print(f\"{city_name}\\nTemperature: {temperature}°C\\nWeather Report: {weather_report}\")\n",
    "else:\n",
    "    print(\"Error:\", response.status_code)\n"
   ]
  },
  {
   "cell_type": "code",
   "execution_count": 105,
   "id": "eb65bee8",
   "metadata": {},
   "outputs": [
    {
     "name": "stdout",
     "output_type": "stream",
     "text": [
      "200\n",
      "https://api.openweathermap.org/data/2.5/weather?q=Hyderabad&appid=2c3cc91cde7362d072ddab63b3282ce5\n",
      "Hyderabad\n",
      "Temperature: 301.38\n",
      "Weather Report: broken clouds\n"
     ]
    }
   ],
   "source": [
    "import requests\n",
    "\n",
    "API_KEY = '2c3cc91cde7362d072ddab63b3282ce5'\n",
    "CITY_NAME = 'Hyderabad'\n",
    "API_URL = f'https://api.openweathermap.org/data/2.5/weather?q={CITY_NAME}&appid={API_KEY}'\n",
    "\n",
    "response = requests.get(API_URL)\n",
    "print(response.status_code)\n",
    "print(response.url)\n",
    "python_data=response.json()\n",
    "print(python_data['name'])\n",
    "print(\"Temperature:\",python_data['main']['temp'])\n",
    "print(\"Weather Report:\",python_data['weather'][0]['description'])\n",
    "    "
   ]
  },
  {
   "cell_type": "code",
   "execution_count": 128,
   "id": "b2d39282",
   "metadata": {},
   "outputs": [
    {
     "name": "stdout",
     "output_type": "stream",
     "text": [
      "200\n",
      "https://api.codingninjas.com/api/v3/events?event_category=ALL_EVENTS&event_sub_category=All%20Time%20Favorites&tag_list=&offset=0&_ga=2.242289346.158936205.1692602883-455297490.1688931801\n",
      "Freshmen Induction for upcoming batch of TIET\n"
     ]
    }
   ],
   "source": [
    "import requests\n",
    "m=requests.get( \"https://api.codingninjas.com/api/v3/events?event_category=ALL_EVENTS&event_sub_category=All%20Time%20Favorites&tag_list=&offset=0&_ga=2.242289346.158936205.1692602883-455297490.1688931801\")\n",
    "print(m.status_code)\n",
    "print(m.url)\n",
    "python_data=m.json()\n",
    "# check there are any events or not if len(python_data)<0 means there is no any events\n",
    "if len(python_data)>0:\n",
    "    '''for i in python_data['data']['events']:\n",
    "        print(i['short_desc'])\n",
    "        break'''\n",
    "    first_event=python_data['data']\n",
    "    print(first_event['events'][0]['short_desc'])\n",
    "else:\n",
    "    print( \"No Events !\")"
   ]
  },
  {
   "cell_type": "code",
   "execution_count": 147,
   "id": "31863187",
   "metadata": {},
   "outputs": [
    {
     "name": "stdout",
     "output_type": "stream",
     "text": [
      "200\n",
      " \n",
      "007\n",
      "015\n",
      "025\n",
      "037\n"
     ]
    }
   ],
   "source": [
    "import requests\n",
    "\n",
    "response =requests.get(' https://api.openaq.org/v1/cities',params={\"country\":\"BE\",\"limit\":5,\"order_by\":\"city\"})\n",
    "print(response.status_code)\n",
    "python_data = response.json()\n",
    "\n",
    "python_data=python_data['results']\n",
    "\n",
    "for i in python_data:\n",
    "    print(i['city'])"
   ]
  },
  {
   "cell_type": "code",
   "execution_count": 145,
   "id": "eb6e45ca",
   "metadata": {},
   "outputs": [
    {
     "name": "stdout",
     "output_type": "stream",
     "text": [
      "200\n",
      "https://api.openaq.org/v1/cities?country=BE\n",
      " \n",
      "007\n",
      "015\n",
      "025\n",
      "037\n"
     ]
    }
   ],
   "source": [
    "import requests\n",
    "n=requests.get(' https://api.openaq.org/v1/cities',params={\"country\":\"BE\"})\n",
    "print(n.status_code)\n",
    "print(n.url)\n",
    "python_data=n.json()\n",
    "python_data=python_data['results']\n",
    "c=0\n",
    "for i in python_data:\n",
    "    print(i['city'])\n",
    "    c+=1\n",
    "    if c==5:\n",
    "        break"
   ]
  },
  {
   "cell_type": "code",
   "execution_count": 149,
   "id": "066e9596",
   "metadata": {},
   "outputs": [
    {
     "name": "stdout",
     "output_type": "stream",
     "text": [
      "200\n",
      "https://api.openaq.org/v1/cities?country=BE\n",
      "JP  \n",
      "US 007\n",
      "US 015\n",
      "US 025\n",
      "US 037\n",
      "US 039\n",
      "US 047\n",
      "US 051\n",
      "US 057\n",
      "US Aberdeen\n",
      "CI Abidjan\n",
      "AE Abu Al Abyad\n",
      "AE Abu Dhabi\n",
      "GH Accra\n",
      "ES A Coruña\n",
      "US ADA\n",
      "US ADAIR\n",
      "US ADAMS\n",
      "TR Adana\n",
      "ET Addis Ababa\n",
      "AU Adelaide\n",
      "TR Adıyaman\n",
      "US Adrian\n",
      "MK Aerodrom Municipality\n",
      "TR Afyonkarahisar\n",
      "TR Ağrı\n",
      "MX Aguascalientes\n",
      "FR Ain\n",
      "US AIR\n",
      "FR Aisne\n",
      "HU Ajka\n",
      "US Akron\n",
      "TR Aksaray\n",
      "IS Akureyri\n",
      "AE Al Ain\n",
      "US ALAMEDA\n",
      "RO Alba\n",
      "US Albany\n",
      "US Albany-Lebanon\n",
      "US Albany-Schenectady-Troy\n",
      "CA ALBERTA\n",
      "US Albuquerque\n",
      "IT Alessandria\n",
      "NO Ålesund\n",
      "US ALEXANDER\n",
      "ZA Alfred Nzo\n",
      "ES Alicante/Alacant\n",
      "US Allegan\n",
      "US Allentown-Bethlehem-Easton\n",
      "FR Allier\n",
      "ES Almería\n",
      "MX Almoloya de Juárez\n",
      "FR Alpes-de-Haute-Provence\n",
      "FR Alpes-Maritimes\n",
      "AE Al Ruways Industrial City\n",
      "CL Alto Hospicio\n",
      "AU Altona North\n",
      "US Altoona\n",
      "MX Álvaro Obregón\n",
      "LT Alytus\n",
      "US AMADOR\n",
      "US Amarillo\n",
      "TR Amasya\n",
      "BR Americana\n",
      "US Americus\n",
      "JO Amman\n",
      "NL Amsterdam\n",
      "US Anchorage\n",
      "IT Ancona\n",
      "CL Andacollo\n",
      "US Anderson\n",
      "US ANDERSON\n",
      "US ANDREW\n",
      "TR Ankara\n",
      "US Ann Arbor\n",
      "TR Antalya\n",
      "CL Antofagasta\n",
      "BE Antwerpen\n",
      "NL Antwerpen\n",
      "MX Apizaco\n",
      "MX Apodaca\n",
      "US Appleton\n",
      "ES Araba/Álava\n",
      "BR Araçatuba\n",
      "RO Arad\n",
      "US ARAPAHOE\n",
      "BR Araraquara\n",
      "US ARCHULETA\n",
      "TR Ardahan\n",
      "FR Ardèche\n",
      "FR Ardennes\n",
      "US Ardmore\n",
      "IT Arezzo\n",
      "RO Argeş\n",
      "CL Arica\n",
      "TT Arima\n",
      "US Arkadelphia\n",
      "GB Armagh\n",
      "CA AROOSTOOK\n",
      "US AROOSTOOK\n"
     ]
    }
   ],
   "source": [
    "import requests\n",
    "n=requests.get(' https://api.openaq.org/v1/cities',params={\"country\":\"BE\"})\n",
    "print(n.status_code)\n",
    "print(n.url)\n",
    "python_data=n.json()\n",
    "python_data=python_data['results']\n",
    "for i in python_data:\n",
    "    print(i['country'],i['city'])\n"
   ]
  },
  {
   "cell_type": "code",
   "execution_count": null,
   "id": "082b1d12",
   "metadata": {},
   "outputs": [],
   "source": []
  }
 ],
 "metadata": {
  "kernelspec": {
   "display_name": "Python 3 (ipykernel)",
   "language": "python",
   "name": "python3"
  },
  "language_info": {
   "codemirror_mode": {
    "name": "ipython",
    "version": 3
   },
   "file_extension": ".py",
   "mimetype": "text/x-python",
   "name": "python",
   "nbconvert_exporter": "python",
   "pygments_lexer": "ipython3",
   "version": "3.11.3"
  }
 },
 "nbformat": 4,
 "nbformat_minor": 5
}
