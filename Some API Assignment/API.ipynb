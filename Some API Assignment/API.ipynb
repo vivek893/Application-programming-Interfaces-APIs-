{
 "cells": [
  {
   "cell_type": "markdown",
   "id": "b2d89561",
   "metadata": {},
   "source": [
    "# API"
   ]
  },
  {
   "cell_type": "code",
   "execution_count": 62,
   "id": "5eb80278",
   "metadata": {},
   "outputs": [
    {
     "name": "stdout",
     "output_type": "stream",
     "text": [
      "200\n",
      "ISO-8859-1\n",
      "https://www.codingninjas.com:443/\n",
      "{'Content-Type': 'text/html', 'Transfer-Encoding': 'chunked', 'Connection': 'keep-alive', 'x-amz-id-2': 'jL63LERoiwKIn83Szx8XwPdsD/0sM1kJ2e+8Y8wFwOW9lHZO8JA/PHVRDueJnjPUnACYdQmUy0E=', 'x-amz-request-id': 'D7T9YZV9T432AYFX', 'Last-Modified': 'Fri, 18 Aug 2023 13:38:08 GMT', 'Server': 'AmazonS3', 'Content-Encoding': 'br', 'Date': 'Sun, 20 Aug 2023 19:42:04 GMT', 'ETag': 'W/\"f95bf097718472eddcc5508c13ca255d\"', 'Vary': 'Accept-Encoding', 'X-Cache': 'Hit from cloudfront', 'Via': '1.1 251ed0bdb5bee4b6a420f181b6bd204c.cloudfront.net (CloudFront)', 'X-Amz-Cf-Pop': 'CCU50-C2', 'X-Amz-Cf-Id': 's0kPM6ZnhyCmyWnIXYnRsgYzTAWrSsvwwLPW6zn7sicMONOrxa04dg==', 'Age': '75290', 'cache-control': 'must-revalidate, max-age=300'}\n",
      "Sun, 20 Aug 2023 19:42:04 GMT\n",
      "br\n",
      "75290\n",
      "text/html\n",
      "<class 'str'>\n"
     ]
    }
   ],
   "source": [
    "## https://codingninjas.in/api/v3/courses\n",
    "##https://api.github.com/events\n",
    "## https://dog.ceo/api/breeds/list/all\n",
    "import requests\n",
    "response=requests.get('https://codingninjas.in/api/v3/courses')\n",
    "print(response.status_code)   # if ans is 200 means successful or if ans=400 means that failure\n",
    "print(response.encoding)  # it basically encode the data\n",
    "#print(response.text)   # it basically decode the encoding data\n",
    "print(response.url)   # it basically give the url of api call. after clicking visit the response\n",
    "print(response.headers)\n",
    "print(response.headers['Date'])\n",
    "header_info=response.headers\n",
    "print(header_info['Content-Encoding'])\n",
    "print(header_info['Age'])\n",
    "print(header_info['Content-Type'])\n",
    "print(type(response.text))"
   ]
  },
  {
   "cell_type": "code",
   "execution_count": 64,
   "id": "9a6840f6",
   "metadata": {},
   "outputs": [
    {
     "name": "stdout",
     "output_type": "stream",
     "text": [
      "200\n",
      "ISO-8859-1\n",
      "https://www.codingninjas.com:443/\n",
      "{'Content-Type': 'text/html', 'Transfer-Encoding': 'chunked', 'Connection': 'keep-alive', 'x-amz-id-2': 'jL63LERoiwKIn83Szx8XwPdsD/0sM1kJ2e+8Y8wFwOW9lHZO8JA/PHVRDueJnjPUnACYdQmUy0E=', 'x-amz-request-id': 'D7T9YZV9T432AYFX', 'Last-Modified': 'Fri, 18 Aug 2023 13:38:08 GMT', 'Server': 'AmazonS3', 'Content-Encoding': 'br', 'Date': 'Sun, 20 Aug 2023 19:42:04 GMT', 'ETag': 'W/\"f95bf097718472eddcc5508c13ca255d\"', 'Vary': 'Accept-Encoding', 'X-Cache': 'Hit from cloudfront', 'Via': '1.1 0e1c63554661a91139dfe7234190df66.cloudfront.net (CloudFront)', 'X-Amz-Cf-Pop': 'CCU50-C2', 'X-Amz-Cf-Id': 'SEq5Kffv_vtRberpHXX5MSpjiPc9emT9vDrd9oVF3yEPpoU6IyBnMA==', 'Age': '75347', 'cache-control': 'must-revalidate, max-age=300'}\n",
      "Sun, 20 Aug 2023 19:42:04 GMT\n",
      "br\n",
      "75347\n"
     ]
    }
   ],
   "source": [
    "import requests\n",
    "response=requests.get('https://codingninjas.in/api/v3/courses')\n",
    "print(response.status_code) \n",
    "print(response.encoding)\n",
    "#print(response.text)\n",
    "print(response.url)\n",
    "print(response.headers)\n",
    "print(response.headers['Date'])\n",
    "header_info=response.headers\n",
    "print(header_info['Content-Encoding'])\n",
    "print(header_info['Age'])\n"
   ]
  },
  {
   "cell_type": "code",
   "execution_count": 59,
   "id": "18eea7f1",
   "metadata": {},
   "outputs": [
    {
     "name": "stdout",
     "output_type": "stream",
     "text": [
      "200\n",
      "UTF-8\n",
      "<!DOCTYPE html><html lang=\"en\"><head>\n",
      "    <meta charset=\"utf-8\">\n",
      "    <title>Coding Ninjas</title>\n",
      "\n",
      "    <meta name=\"google-site-verification\" content=\"ASe_HQRsu8j61tGt95RROjXi07M380nMuoJ0Mu9rytk\">\n",
      "    <meta name=\"title\" content=\"Coding Ninjas\">\n",
      "    <meta property=\"og:title\" content=\"Coding Ninjas\">\n",
      "    <meta name=\"description\" content=\"Best Programming Institute in India\">\n",
      "    <meta property=\"og:description\" content=\"Best Programming Institute in India\">\n",
      "    <meta property=\"og:image\" content=\"https://files.codingninjas.in/0000000000000723.jpg\">\n",
      "\n",
      "    <script>\n",
      "      let windowLoaded = false;\n",
      "      window.pushEventsToQueue = true;\n",
      "      window.gtmEventQueue = [];\n",
      "      window.gtmEcommerceQueue = [];\n",
      "      window.gtmScriptInit = false;\n",
      "      document.addEventListener('DOMContentLoaded', () => {\n",
      "        const nonDelayedPath = location.pathname.includes('/checkout');\n",
      "        let delayTime = nonDelayedPath ? 0 : 7000;\n",
      "        if (!nonDelayedPath && window.navigator.userAgentData) {\n",
      "          delayTime = window.navigator.userAgentData.mobile ? 10000 : 5000;\n",
      "        }\n",
      "        if (window.gtmEventQueue === undefined) {\n",
      "          window.gtmEventQueue = [];\n",
      "        }\n",
      "        if (window.gtmEcommerceQueue === undefined) {\n",
      "          window.gtmEcommerceQueue = [];\n",
      "        }\n",
      "        document.addEventListener('DOMContentLoaded', () => {\n",
      "          setTimeout(initGTM, delayTime);\n",
      "        });\n",
      "        document.addEventListener('scroll', initGTM);\n",
      "        document.addEventListener('mousemove', initGTM);\n",
      "        document.addEventListener('touchstart', initGTM);\n",
      "        function initGTM() {\n",
      "          if (window.gtmScriptInit) {\n",
      "            return false;\n",
      "          }\n",
      "          const event = new Event('gtm_script_loaded');\n",
      "          window.gtmScriptInit = true; // flag to ensure script does not get added to DOM more than once.\n",
      "          (function (w, d, s, l, i) {\n",
      "            w[l] = w[l] || [];\n",
      "            w[l].push({ 'gtm.start': new Date().getTime(), event: 'gtm.js' });\n",
      "            var f = d.getElementsByTagName(s)[0],\n",
      "              j = d.createElement(s),\n",
      "              dl = l != 'dataLayer' ? '&l=' + l : '';\n",
      "            j.async = true;\n",
      "            j.src =\n",
      "              'https://www.googletagmanager.com/gtm.js?id=' +\n",
      "              i +\n",
      "              dl +\n",
      "              '&gtm_auth=2Obs6MKGpBvVcCJFBFgP7A&gtm_preview=env-325&gtm_cookies_win=x';\n",
      "            f.parentNode.insertBefore(j, f);\n",
      "            j.onload = () => {\n",
      "              window.dispatchEvent(event);\n",
      "              window.gtmScriptInit = true; // flag to ensure script does not get added to DOM more than once\n",
      "              window.pushEventsToQueue = false;\n",
      "            };\n",
      "          })(window, document, 'script', 'dataLayer', 'GTM-NSRR859');\n",
      "        }\n",
      "      });\n",
      "    </script>\n",
      "\n",
      "    <base href=\"/\">\n",
      "    <meta name=\"viewport\" content=\"width=device-width, initial-scale=1.0\">\n",
      "    <meta name=\"theme-color\" content=\"#4e4e4e\">\n",
      "    <link rel=\"manifest\" href=\"manifest.json\">\n",
      "    <link rel=\"icon\" type=\"image/x-icon\" href=\"./favicon.ico\">\n",
      "    <link rel=\"mask-icon\" href=\"assets-landing/icons/icon-192x192.png\" color=\"#4e4e4e\">\n",
      "    <link rel=\"stylesheet\" href=\"https://cdn.jsdelivr.net/npm/animate.css@3.5.2/animate.min.css\" media=\"print\" onload=\"this.media='all'\">\n",
      "    <link rel=\"preconnect\" href=\"https://s3.amazonaws.com\">\n",
      "    <link rel=\"preconnect\" href=\"https://ninjasfiles.s3.amazonaws.com\">\n",
      "    <link rel=\"preconnect\" href=\"https://lh3.googleusercontent.com\">\n",
      "    <link rel=\"preconnect\" href=\"https://connect.facebook.net\">\n",
      "    <link rel=\"preconnect\" href=\"https://files.codingninjas.com\">\n",
      "    <link rel=\"preconnect\" href=\"https://cds.taboola.com\">\n",
      "    <link rel=\"preconnect\" href=\"https://www.google.com\">\n",
      "    <link rel=\"preconnect\" href=\"https://www.facebook.com\">\n",
      "    <link rel=\"preconnect\" href=\"https://apis.google.com\">\n",
      "    <link rel=\"preconnect\" href=\"https://www.google.co.in\">\n",
      "    <link rel=\"preconnect\" href=\"https://googleads.g.doubleclick.net\">\n",
      "    <link rel=\"preconnect\" href=\" https://accounts.google.com\">\n",
      "    <link rel=\"preconnect\" href=\" https://static.cloudflareinsights.com\">\n",
      "    <link rel=\"preconnect\" href=\"https://googleads.g.doubleclick.net\">\n",
      "    <link rel=\"preconnect\" href=\"https://i.ytimg.com\">\n",
      "    <link rel=\"preconnect\" href=\"https://tr.snapchat.com\">\n",
      "    <link rel=\"preconnect\" href=\"https://www.googleadservices.com\">\n",
      "    <link rel=\"preconnect\" href=\" https://code.jivosite.com\">\n",
      "    <link rel=\"preconnect\" href=\"https://www.googletagmanager.com\">\n",
      "    <link rel=\"preload\" href=\"https://files.codingninjas.com/group-3931-8996.svg\" as=\"image\">\n",
      "    <link rel=\"preload\" href=\"https://files.codingninjas.in/438375-17407.webp\" as=\"image\">\n",
      "    <link rel=\"preload\" href=\"https://fonts.gstatic.com/s/materialicons/v70/flUhRq6tzZclQEJ-Vdg-IuiaDsNcIhQ8tQ.woff2\" as=\"font\" type=\"font/woff2\" crossorigin=\"\">\n",
      "    <link rel=\"preload\" href=\"https://fonts.gstatic.com/s/mulish/v3/1Ptwg83HX_SGhgqk2hAjQlW_mEuZ0FsSKeOfGZQ8DzNVwd6k.woff\" as=\"font\" type=\"font/woff\" crossorigin=\"\">\n",
      "\n",
      "    <link rel=\"preload\" href=\"https://files.codingninjas.in/72e3f188-79a1-465f-90ca-27262d769841-8505.png\" as=\"image\">\n",
      "    <style>\n",
      "      @font-face {\n",
      "        font-family: 'Mulish';\n",
      "        font-style: italic;\n",
      "        font-weight: 400;\n",
      "        src: url(https://fonts.gstatic.com/s/mulish/v3/1Ptwg83HX_SGhgqk2hAjQlW_mEuZ0FsSKeOfGZQ8DzNVwd6k.woff)\n",
      "          format('woff');\n",
      "      }\n",
      "      @font-face {\n",
      "        font-family: 'Mulish';\n",
      "        font-style: normal;\n",
      "        font-weight: 300;\n",
      "        font-display: swap;\n",
      "        src: url(https://fonts.gstatic.com/s/mulish/v3/1Ptvg83HX_SGhgqk3wotYKNnBQ.woff2)\n",
      "          format('woff2');\n",
      "      }\n",
      "      @font-face {\n",
      "        font-family: 'Mulish';\n",
      "        font-style: normal;\n",
      "        font-weight: 400;\n",
      "        font-display: swap;\n",
      "        src: url(https://fonts.gstatic.com/s/mulish/v3/1Ptvg83HX_SGhgqk3wotYKNnBQ.woff2)\n",
      "          format('woff');\n",
      "      }\n",
      "      @font-face {\n",
      "        font-family: 'Mulish';\n",
      "        font-style: normal;\n",
      "        font-weight: 600;\n",
      "        font-display: swap;\n",
      "        src: url(https://fonts.gstatic.com/s/mulish/v3/1Ptvg83HX_SGhgqk3wotYKNnBQ.woff2)\n",
      "          format('woff');\n",
      "      }\n",
      "      @font-face {\n",
      "        font-family: 'Mulish';\n",
      "        font-style: normal;\n",
      "        font-weight: 700;\n",
      "        font-display: swap;\n",
      "        src: url(https://fonts.gstatic.com/s/mulish/v3/1Ptvg83HX_SGhgqk3wotYKNnBQ.woff2)\n",
      "          format('woff');\n",
      "      }\n",
      "      @font-face {\n",
      "        font-family: 'Material Icons';\n",
      "        font-style: normal;\n",
      "        font-weight: 400;\n",
      "        src: url(https://fonts.gstatic.com/s/materialicons/v70/flUhRq6tzZclQEJ-Vdg-IuiaDsNcIhQ8tQ.woff2)\n",
      "          format('woff2');\n",
      "      }\n",
      "      .material-icons {\n",
      "        font-family: 'Material Icons';\n",
      "        font-weight: normal;\n",
      "        font-style: normal;\n",
      "        font-size: 24px;\n",
      "        line-height: 1;\n",
      "        letter-spacing: normal;\n",
      "        text-transform: none;\n",
      "        display: inline-block;\n",
      "        white-space: nowrap;\n",
      "        word-wrap: normal;\n",
      "        direction: ltr;\n",
      "        -webkit-font-feature-settings: 'liga';\n",
      "        -webkit-font-smoothing: antialiased;\n",
      "      }\n",
      "\n",
      "      .zen-grid-section-v2 {\n",
      "        padding-left: 16px;\n",
      "        padding-right: 16px;\n",
      "      }\n",
      "\n",
      "      @media screen and (min-width: 600px) {\n",
      "        .zen-grid-section-v2 {\n",
      "          padding-left: 24px;\n",
      "          padding-right: 24px;\n",
      "        }\n",
      "      }\n",
      "\n",
      "      @media screen and (min-width: 960px) {\n",
      "        .zen-grid-section-v2 {\n",
      "          padding-left: 144px;\n",
      "          padding-right: 144px;\n",
      "        }\n",
      "      }\n",
      "    </style>\n",
      "    <link href=\"/jivosite/jivosite.css\" rel=\"stylesheet\">\n",
      "    <script src=\"/jivosite/jivosite.js\" type=\"text/javascript\"></script>\n",
      "    <script type=\"text/javascript\" src=\"https://checkout.razorpay.com/v1/razorpay.js\"></script>\n",
      "\n",
      "    <!-- Start VWO Async SmartCode -->\n",
      "    <script type=\"text/javascript\" id=\"vwoCode\">\n",
      "      window._vwo_code =\n",
      "        window._vwo_code ||\n",
      "        (function () {\n",
      "          var account_id = 659272,\n",
      "            version = 1.4,\n",
      "            settings_tolerance = 2000,\n",
      "            library_tolerance = 2500,\n",
      "            use_existing_jquery = false,\n",
      "            is_spa = 1,\n",
      "            hide_element = 'body',\n",
      "            /* DO NOT EDIT BELOW THIS LINE */\n",
      "            f = false,\n",
      "            d = document,\n",
      "            vwoCodeEl = document.querySelector('#vwoCode'),\n",
      "            code = {\n",
      "              use_existing_jquery: function () {\n",
      "                return use_existing_jquery;\n",
      "              },\n",
      "              library_tolerance: function () {\n",
      "                return library_tolerance;\n",
      "              },\n",
      "              finish: function () {\n",
      "                if (!f) {\n",
      "                  f = true;\n",
      "                  var e = d.getElementById('_vis_opt_path_hides');\n",
      "                  if (e) e.parentNode.removeChild(e);\n",
      "                }\n",
      "              },\n",
      "              finished: function () {\n",
      "                return f;\n",
      "              },\n",
      "              load: function (e) {\n",
      "                var t = d.createElement('script');\n",
      "                t.fetchPriority = 'high';\n",
      "                t.src = e;\n",
      "                t.type = 'text/javascript';\n",
      "                t.innerText;\n",
      "                t.onerror = function () {\n",
      "                  _vwo_code.finish();\n",
      "                };\n",
      "                d.getElementsByTagName('head')[0].appendChild(t);\n",
      "              },\n",
      "              getVersion: function () {\n",
      "                return version;\n",
      "              },\n",
      "              getMatchedCookies: function (e) {\n",
      "                var t = [];\n",
      "                if (document.cookie) {\n",
      "                  t = document.cookie.match(e) || [];\n",
      "                }\n",
      "                return t;\n",
      "              },\n",
      "              getCombinationCookie: function () {\n",
      "                var e = code.getMatchedCookies(\n",
      "                  /(?:^|;)\\s?(_vis_opt_exp_\\d+_combi=[^;$]*)/gi\n",
      "                );\n",
      "                e = e.map(function (e) {\n",
      "                  try {\n",
      "                    var t = decodeURIComponent(e);\n",
      "                    if (!/_vis_opt_exp_\\d+_combi=(?:\\d+,?)+\\s*$/.test(t)) {\n",
      "                      return '';\n",
      "                    }\n",
      "                    return t;\n",
      "                  } catch (e) {\n",
      "                    return '';\n",
      "                  }\n",
      "                });\n",
      "                var i = [];\n",
      "                e.forEach(function (e) {\n",
      "                  var t = e.match(/([\\d,]+)/g);\n",
      "                  t && i.push(t.join('-'));\n",
      "                });\n",
      "                return i.join('|');\n",
      "              },\n",
      "              init: function () {\n",
      "                window.settings_timer = setTimeout(function () {\n",
      "                  _vwo_code.finish();\n",
      "                }, settings_tolerance);\n",
      "                var e = d.createElement('style'),\n",
      "                  t = hide_element\n",
      "                    ? hide_element +\n",
      "                      '{opacity:0 !important;filter:alpha(opacity=0) !important;background:none !important;}'\n",
      "                    : '',\n",
      "                  i = d.getElementsByTagName('head')[0];\n",
      "                e.setAttribute('id', '_vis_opt_path_hides');\n",
      "                vwoCodeEl && e.setAttribute('nonce', vwoCodeEl.nonce);\n",
      "                e.setAttribute('type', 'text/css');\n",
      "                if (e.styleSheet) e.styleSheet.cssText = t;\n",
      "                else e.appendChild(d.createTextNode(t));\n",
      "                i.appendChild(e);\n",
      "                var n = this.getCombinationCookie();\n",
      "                this.load(\n",
      "                  'https://dev.visualwebsiteoptimizer.com/j.php?a=' +\n",
      "                    account_id +\n",
      "                    '&u=' +\n",
      "                    encodeURIComponent(d.URL) +\n",
      "                    '&f=' +\n",
      "                    +is_spa +\n",
      "                    '&vn=' +\n",
      "                    version +\n",
      "                    (n ? '&c=' + n : '')\n",
      "                );\n",
      "                return settings_timer;\n",
      "              },\n",
      "            };\n",
      "          window._vwo_settings_timer = code.init();\n",
      "          return code;\n",
      "        })();\n",
      "    </script>\n",
      "    <!-- End VWO Async SmartCode -->\n",
      "  <style>:root{--green-900:#00631f;--green-800:#00752e;--green-700:#007f36;--green-600:#008a3e;--green-500:#009245;--green-400:#26a261;--green-350:#7fd7a4;--green-300:#4db37d;--green-250:#65b168;--green-200:#80c9a2;--green-100:#b3dec7;--green-70:#37833b;--green-60:#43a047;--green-50:#e0f2e9;--green-30:#d2f7f2;--green-20:#cbe5cc;--green-A100:#3f6864;--green-A70:#0bb09f;--grey-B1000:#1e2124;--grey-B500:#1a202c;--grey-B100:#8e9091;--grey-1000:#19191d;--grey-950:#282b30;--grey-900:#212121;--grey-800:#424242;--grey-750:#424549;--grey-700:#616161;--grey-600:#757575;--grey-500:#9e9e9e;--grey-400:#bdbdbd;--grey-300:#e0e0e0;--grey-200:#eeeeee;--grey-100:#f5f5f5;--grey-90:#292a31;--grey-80:#3a3a44;--grey-70:#4a4b57;--grey-60:#5a5b6a;--grey-50:#fafafa;--grey-40:#9696a0;--grey-30:#b4b4bb;--grey-20:#d2d2d6;--grey-10:#e1e1e3;--grey-5:#f0f0f1;--grey-0:#f9f9fa;--grey-A800:#1e2124;--grey-A700:#000000;--grey-A650:#626466;--grey-A350:#bbbcbd;--grey-A300:#9696a0;--grey-A600:#19191d;--grey-A500:#787885;--grey-A450:#d2d3d3;--grey-A400:#343434;--grey-A250:#f1f2f2;--grey-A200:#d0d0d0;--grey-A150:#d9d9d9;--grey-A100:#ffffff;--orange-1000:#fb813e;--orange-900:#f6430f;--orange-850:#ff6060;--orange-800:#f85618;--orange-700:#f9601e;--orange-600:#f96b24;--orange-500:#fa7328;--orange-550:#fb813e;--orange-400:#fb8848;--orange-300:#fc9d69;--orange-200:#fdb994;--orange-100:#fed5bf;--orange-90:#af511c;--orange-80:#c85c20;--orange-70:#e16824;--orange-60:#fa7328;--orange-50:#feeee5;--orange-40:#fb8f53;--orange-30:#fc9d69;--orange-20:#fdc7a9;--orange-10:#fed5bf;--orange-5:#fff1ea;--orange-0:#faf7f2;--orange-A700:#fbab7e;--orange-A600:#fca16e;--orange-A500:#fff9f5;--red-900:#b30108;--red-800:#be0110;--red-700:#c40114;--red-600:#cb0218;--red-500:#d0021b;--red-400:#d7283d;--red-300:#de4e5f;--red-200:#e8818d;--red-100:#f1b3bb;--red-60:#f44336;--red-50:#f9e1e4;--red-A600:#f6655a;--purple-900:#3400e2;--purple-800:#4600e7;--purple-700:#5000e9;--purple-600:#5a00ec;--purple-500:#6200ee;--purple-400:#7a26f1;--purple-300:#914df3;--purple-200:#b180f7;--purple-100:#d0b3fa;--purple-70:#8b7fd7;--purple-60:#2f154c;--purple-50:#421d68;--purple-40:#7533b7;--purple-30:#dee7fc;--purple-10:#faf6ff;--purple-A100:#82455e;--purple-LIGHT1300:#fafafd;--purple-LIGHT500:#5341a0;--purple-LIGHT300:#3d3465;--pink-900:#8a004e;--pink-800:#b00054;--pink-700:#c50058;--pink-600:#db005c;--pink-500:#ec005e;--pink-400:#ee0978;--pink-300:#f14d91;--pink-250:#d781ac;--pink-200:#f484b1;--pink-100:#f8b5d0;--pink-60:#f1639e;--pink-50:#fce2ec;--pink-30:#fed7e7;--blue-1300:#fafbfe;--blue-1100:#30374d;--blue-1000:#d5dff9;--blue-700:#425996;--blue-600:#5780e9;--blue-500:#112c67;--blue-400:#e6f0ff;--blue-100:#435377;--blue-70:#496ec5;--blue-60:#557cd9;--blue-50:#04439f;--blue-40:#0a6dff;--blue-10:#b6d3ff;--blue-5:#f3f8ff;--blue-A100:#435377;--blue-A200:#f5f7fe;--blue-A300:#5780e9;--violet-60:#1d195e;--yellow-1200:#fffbf4;--yellow-700:#d1941a;--yellow-500:#ffc147;--yellow-100:#f3a805;--yellow-70:#eaa30a;--yellow-50:#fff8ea;--yellow-40:#d7a07f}body{--zen-neutral-100:#1e2124;--zen-neutral-200:#23262a;--zen-neutral-300:#282b30;--zen-neutral-400:#36393e;--zen-neutral-500:#424549;--zen-neutral-600:#626466;--zen-neutral-700:#787a7c;--zen-neutral-800:#8e9091;--zen-neutral-900:#a5a6a7;--zen-neutral-1000:#bbbcbd;--zen-neutral-1100:#d2d3d3;--zen-neutral-1200:#e8e9e9;--zen-neutral-1300:#ffffff;--zen-neutral-1400:#f8f8f8;--zen-neutral-1500:#f1f2f2;--zen-primary-25:#282627;--zen-primary-50:#332c2c;--zen-primary-100:#483733;--zen-primary-200:#5e3f35;--zen-primary-300:#734836;--zen-primary-400:#9c5a38;--zen-primary-500:#c66b3a;--zen-primary-600:#fb813e;--zen-primary-700:#fca16e;--zen-primary-800:#fdba95;--zen-primary-900:#fed3bc;--zen-primary-1000:#fedfcf;--zen-primary-1100:#feece2;--zen-primary-1200:#fff7f3;--zen-primary-1300:#fffbf8;--zen-blue-25:#2a2d36;--zen-blue-50:#2b303c;--zen-blue-100:#30374d;--zen-blue-200:#35405f;--zen-blue-300:#394871;--zen-blue-400:#425996;--zen-blue-500:#4c6bbb;--zen-blue-600:#5780e9;--zen-blue-700:#81a0ef;--zen-blue-800:#a3b9f3;--zen-blue-900:#c4d3f7;--zen-blue-1000:#d5dff9;--zen-blue-1100:#e6ecfc;--zen-blue-1200:#f5f7fe;--zen-blue-1300:#fafbfe;--zen-purple-25:#2a2c35;--zen-purple-50:#2c2d39;--zen-purple-100:#322f47;--zen-purple-200:#383156;--zen-purple-300:#3d3465;--zen-purple-400:#483b82;--zen-purple-500:#5341a0;--zen-purple-600:#6249c5;--zen-purple-700:#8977d4;--zen-purple-800:#a99bdf;--zen-purple-900:#c8bfeb;--zen-purple-1000:#d8d1f0;--zen-purple-1100:#e8e4f6;--zen-purple-1200:#f6f4fb;--zen-purple-1300:#fafafd;--zen-red-25:#2e2d31;--zen-red-50:#352e33;--zen-red-100:#483337;--zen-red-200:#5d383c;--zen-red-300:#713e3f;--zen-red-400:#994a47;--zen-red-500:#c2564f;--zen-red-600:#f6655a;--zen-red-700:#f88c83;--zen-red-800:#faaaa4;--zen-red-900:#fcc9c5;--zen-red-1000:#fdd8d6;--zen-red-1100:#fee8e6;--zen-red-1200:#fff6f5;--zen-red-1300:#fffafa;--zen-yellow-25:#2f2f31;--zen-yellow-50:#353432;--zen-yellow-100:#494135;--zen-yellow-200:#5f4f37;--zen-yellow-300:#745e39;--zen-yellow-400:#9e7d3d;--zen-yellow-500:#c99b41;--zen-yellow-600:#ffc147;--zen-yellow-700:#ffd175;--zen-yellow-800:#ffdd9a;--zen-yellow-900:#ffe9bf;--zen-yellow-1000:#ffefd1;--zen-yellow-1100:#fff6e4;--zen-yellow-1200:#fffbf4;--zen-yellow-1300:#fffdfa;--zen-green-25:#2a2f32;--zen-green-50:#2c3334;--zen-green-100:#323e39;--zen-green-200:#384b3f;--zen-green-300:#3e5944;--zen-green-400:#49744f;--zen-green-500:#568f5a;--zen-green-600:#65b168;--zen-green-700:#8cc58e;--zen-green-800:#aad4ac;--zen-green-900:#c9e4ca;--zen-green-1000:#d8ebd9;--zen-green-1100:#e8f3e8;--zen-green-1200:#f6faf6;--zen-green-1300:#fafdfa;--zen-teal-25:#202b2f;--zen-teal-50:#192a2e;--zen-teal-100:#02292a;--zen-teal-200:#034545;--zen-teal-300:#046061;--zen-teal-400:#057b7c;--zen-teal-500:#069697;--zen-teal-600:#33a9a9;--zen-teal-700:#60bcbc;--zen-teal-800:#8dcfcf;--zen-teal-900:#bbe2e2;--zen-teal-1000:#d1ebec;--zen-teal-1100:#e8f5f5;--zen-teal-1200:#f6fbfb;--zen-teal-1300:#fafdfd;--zen-pink-25:#2e2c33;--zen-pink-50:#342e36;--zen-pink-100:#473240;--zen-pink-200:#5b3849;--zen-pink-300:#6e3e53;--zen-pink-400:#964966;--zen-pink-500:#bd547a;--zen-pink-600:#ef6292;--zen-pink-700:#f389ad;--zen-pink-800:#f6a9c3;--zen-pink-900:#f9c8d9;--zen-pink-1000:#fbd8e4;--zen-pink-1100:#fde7ef;--zen-pink-1200:#fef5f9;--zen-pink-1300:#fffafc;--zen-aqua-25:#292f36;--zen-aqua-50:#2a333d;--zen-aqua-100:#2d3e50;--zen-aqua-200:#2f4b65;--zen-aqua-300:#315979;--zen-aqua-400:#3673a2;--zen-aqua-500:#3b8ecb;--zen-aqua-600:#41afff;--zen-aqua-700:#71c3ff;--zen-aqua-800:#96d3ff;--zen-aqua-900:#bce3ff;--zen-aqua-1000:#cfebff;--zen-aqua-1100:#e3f3ff;--zen-aqua-1200:#f4faff;--zen-aqua-1300:#f9fdff;--zen-text-100:#1e2124;--zen-text-400:#36393e;--zen-text-800:#8e9091;--zen-text-1000:#bbbcbd;--zen-text-1400:#f8f8f8;--zen-shadow-100:#f0f0f0}*{-webkit-font-smoothing:antialiased;-webkit-tap-highlight-color:transparent;font-family:Mulish,Mulish,Helvetica,Arial,sans-serif}body{box-sizing:border-box;margin:0;padding:0;font-family:Mulish,Mulish,Helvetica,Arial,sans-serif;font-weight:400}.heart{height:100vh;width:100vw;box-sizing:border-box;display:flex;justify-content:center;align-items:center}.loader span{display:inline-block;animation:pulse .5s alternate infinite ease-in-out}.loader span:nth-child(odd){animation-delay:.5s}@keyframes pulse{to{transform:scale(.8);opacity:.7}}</style><link rel=\"stylesheet\" href=\"v/4.0.769/styles.6ebfc52cd59e4baf.css\" media=\"print\" onload=\"this.media='all'\"><noscript><link rel=\"stylesheet\" href=\"v/4.0.769/styles.6ebfc52cd59e4baf.css\"></noscript><link rel=\"stylesheet\" href=\"v/4.0.769/vendor.145c57c46084f443.css\" media=\"print\" onload=\"this.media='all'\"><noscript><link rel=\"stylesheet\" href=\"v/4.0.769/vendor.145c57c46084f443.css\"></noscript></head>\n",
      "\n",
      "  <body>\n",
      "    <!-- Google Tag Manager (noscript) -->\n",
      "\n",
      "    <noscript><iframe\n",
      "        src=\"https://www.googletagmanager.com/ns.html?id=GTM-NSRR859&gtm_auth=2Obs6MKGpBvVcCJFBFgP7A&gtm_preview=env-325&gtm_cookies_win=x\"\n",
      "        height=\"0\"\n",
      "        width=\"0\"\n",
      "        style=\"display: none; visibility: hidden\"\n",
      "      ></iframe\n",
      "    ></noscript>\n",
      "    <!-- End Google Tag Manager (noscript) -->\n",
      "\n",
      "    <landing-root>\n",
      "      <div class=\"heart\">\n",
      "        <div class=\"loader\">\n",
      "          <span><img src=\"https://files.codingninjas.in/loading-logo-dark-25003.png\" width=\"305px\" height=\"117.5px\"></span>\n",
      "        </div>\n",
      "      </div>\n",
      "    </landing-root>\n",
      "  <script src=\"v/4.0.769/runtime.276c76089a18cd7d.js\" type=\"module\"></script><script src=\"v/4.0.769/polyfills.51e3d390a81c26d9.js\" type=\"module\"></script><script src=\"v/4.0.769/scripts.e85bf7d161100a25.js\" defer></script><script src=\"v/4.0.769/vendor.9a7916d206ad09c3.js\" type=\"module\"></script><script src=\"v/4.0.769/main.6cda50f82322ebaf.js\" type=\"module\"></script>\n",
      "\n",
      "</body></html>\n",
      "https://www.amazone.net/en-in\n",
      "{'Date': 'Mon, 21 Aug 2023 16:33:05 GMT', 'Content-Type': 'text/html;charset=UTF-8', 'Transfer-Encoding': 'chunked', 'Connection': 'keep-alive', 'Vary': 'Origin, Access-Control-Request-Method, Access-Control-Request-Headers', 'Set-Cookie': 'cmKeywordCookie=\"e30=\"; Version=1; Max-Age=16070400; Expires=Fri, 23-Feb-2024 16:33:05 GMT; Path=/; Secure; HttpOnly; SameSite=None, cmSubjectTaxonomiesCookie=\"e30=\"; Version=1; Max-Age=16070400; Expires=Fri, 23-Feb-2024 16:33:05 GMT; Path=/; Secure; HttpOnly; SameSite=None, cmLocationTaxonomiesCookie=\"e30=\"; Version=1; Max-Age=16070400; Expires=Fri, 23-Feb-2024 16:33:05 GMT; Path=/; Secure; HttpOnly; SameSite=None, cmReferrerCookie=\"e30=\"; Version=1; Max-Age=16070400; Expires=Fri, 23-Feb-2024 16:33:05 GMT; Path=/; Secure; HttpOnly; SameSite=None, cmLastVisited=\"eyJwYWdlc1Zpc2l0ZWQiOlsxMDE0NzE4XX0=\"; Version=1; Max-Age=16070400; Expires=Fri, 23-Feb-2024 16:33:05 GMT; Path=/; Secure; HttpOnly; SameSite=None, ns-usr-ses=MjQwMTo0OTAwOjFjM2Y6NDExZjozMWQwOjRhNToxOTBhOjc4ZmItSU4=; Secure; HttpOnly;path=/;', 'Cache-Control': 'max-age=60', 'X-Content-Type-Options': 'nosniff', 'X-XSS-Protection': '1; mode=block', 'X-Frame-Options': 'DENY', 'Content-Language': 'en', 'Feature-Policy': 'geolocation', 'Referrer-Policy': 'strict-origin-when-cross-origin', 'Strict-Transport-Security': 'max-age=15552000; includeSubDomains; preload', 'CF-Cache-Status': 'DYNAMIC', 'Server': 'cloudflare', 'CF-RAY': '7fa446968ca852e0-CCU', 'Content-Encoding': 'br'}\n",
      "text/html;charset=UTF-8\n",
      "geolocation\n",
      "en\n"
     ]
    }
   ],
   "source": [
    "import requests\n",
    "response1=requests.get('https://amazone.in/api/v3/MiniTv')\n",
    "print(response1.status_code) \n",
    "print(response1.encoding)\n",
    "#print(response.text)\n",
    "print(response1.url)\n",
    "print(response1.headers)\n",
    "print(response1.headers['Content-Type'])\n",
    "header_info1=response1.headers\n",
    "print(header_info1['Feature-Policy'])\n",
    "print(header_info1['Content-Language'])"
   ]
  },
  {
   "cell_type": "code",
   "execution_count": 29,
   "id": "6fbfc2c3",
   "metadata": {},
   "outputs": [
    {
     "name": "stdout",
     "output_type": "stream",
     "text": [
      "404\n"
     ]
    }
   ],
   "source": [
    "import requests\n",
    "response=requests.get('http://api.open-notify.org/iss-pass.')\n",
    "print(response.status_code)\n"
   ]
  },
  {
   "cell_type": "code",
   "execution_count": 4,
   "id": "949a3867",
   "metadata": {},
   "outputs": [
    {
     "name": "stdout",
     "output_type": "stream",
     "text": [
      "200\n",
      "http://api.open-notify.org/iss-now.json\n"
     ]
    }
   ],
   "source": [
    "import requests\n",
    "response=requests.get('http://api.open-notify.org/iss-now.json')\n",
    "print(response.status_code)\n",
    "print(response.url)"
   ]
  },
  {
   "cell_type": "code",
   "execution_count": 5,
   "id": "41d00aae",
   "metadata": {},
   "outputs": [
    {
     "name": "stdout",
     "output_type": "stream",
     "text": [
      "200\n",
      "https://www.codingninjas.com:443/\n",
      "{'Content-Type': 'text/html', 'Transfer-Encoding': 'chunked', 'Connection': 'keep-alive', 'x-amz-id-2': 'INzhkCLFAblSYnZgHOSKNB9D6BMjQfT1DB/NhI0P30tdN2HOCKZRLcX3FUE7Q+UcuBaYgRV4tj4=', 'x-amz-request-id': '1TBTZ420MPMT67SJ', 'Date': 'Mon, 14 Aug 2023 11:34:44 GMT', 'Last-Modified': 'Mon, 14 Aug 2023 11:30:05 GMT', 'ETag': 'W/\"85028834cdd3a2cf1920cd77a08ebe20\"', 'Server': 'AmazonS3', 'Content-Encoding': 'br', 'Vary': 'Accept-Encoding', 'X-Cache': 'Hit from cloudfront', 'Via': '1.1 251ed0bdb5bee4b6a420f181b6bd204c.cloudfront.net (CloudFront)', 'X-Amz-Cf-Pop': 'CCU50-C2', 'X-Amz-Cf-Id': 'igdx7sauV7ky6faY5UmMLzUH5hL6HnRYCKeoQ47OBslZdcXKugInIg==', 'Age': '4561', 'cache-control': 'must-revalidate, max-age=300'}\n",
      "text/html\n"
     ]
    }
   ],
   "source": [
    "import requests\n",
    "response=requests.get('https://codingninjas.in/api/v3/events')\n",
    "print(response.status_code)\n",
    "print(response.url)\n",
    "print(response.headers)\n",
    "print(response.headers['Content-Type'])"
   ]
  },
  {
   "cell_type": "markdown",
   "id": "33fcf5ea",
   "metadata": {},
   "source": [
    "# convert json data to python_data\n"
   ]
  },
  {
   "cell_type": "code",
   "execution_count": 20,
   "id": "34d54f17",
   "metadata": {},
   "outputs": [
    {
     "name": "stdout",
     "output_type": "stream",
     "text": [
      "{'student': 'Mohit'}\n",
      "<class 'dict'>\n",
      "Mohit\n",
      "<class 'str'>\n"
     ]
    }
   ],
   "source": [
    "# first import the json\n",
    "import json\n",
    "json_data='{\"student\":\"Mohit\"}'\n",
    "python_data=json.loads(json_data)\n",
    "print(python_data)\n",
    "print(type(python_data))\n",
    "print(python_data['student'])\n",
    "print(type(python_data['student']))"
   ]
  },
  {
   "cell_type": "code",
   "execution_count": 22,
   "id": "02f1d841",
   "metadata": {},
   "outputs": [
    {
     "name": "stdout",
     "output_type": "stream",
     "text": [
      "{'Rollnumber': 101}\n",
      "<class 'dict'>\n",
      "{'Rollnumber': 101}\n",
      "<class 'dict'>\n",
      "101\n",
      "<class 'int'>\n",
      "dict_values([101])\n"
     ]
    }
   ],
   "source": [
    "import json\n",
    "json_data='{\"Rollnumber\":101}'\n",
    "print(json.loads(json_data))\n",
    "print(type(json.loads(json_data)))\n",
    "python_data=json.loads(json_data)\n",
    "print(python_data)\n",
    "print(type(python_data))\n",
    "print(python_data['Rollnumber'])\n",
    "print(type(python_data['Rollnumber']))\n",
    "print(python_data.values())"
   ]
  },
  {
   "cell_type": "code",
   "execution_count": 23,
   "id": "591053eb",
   "metadata": {},
   "outputs": [
    {
     "name": "stdout",
     "output_type": "stream",
     "text": [
      "{'Rollnumber': None}\n",
      "<class 'dict'>\n",
      "{'Rollnumber': None}\n",
      "<class 'dict'>\n",
      "None\n",
      "<class 'NoneType'>\n",
      "dict_values([None])\n"
     ]
    }
   ],
   "source": [
    "json_data='{\"Rollnumber\":null}'\n",
    "print(json.loads(json_data))\n",
    "print(type(json.loads(json_data)))\n",
    "python_data=json.loads(json_data)\n",
    "print(python_data)\n",
    "print(type(python_data))\n",
    "print(python_data['Rollnumber'])\n",
    "print(type(python_data['Rollnumber']))\n",
    "print(python_data.values())"
   ]
  },
  {
   "cell_type": "markdown",
   "id": "74ed4e5b",
   "metadata": {},
   "source": [
    "# convert json object to python dict"
   ]
  },
  {
   "cell_type": "code",
   "execution_count": 17,
   "id": "7681f1aa",
   "metadata": {},
   "outputs": [
    {
     "name": "stdout",
     "output_type": "stream",
     "text": [
      "Mohit\n",
      "101\n"
     ]
    }
   ],
   "source": [
    "json_data='{\"student\":{\"name\":\"Mohit\",\"Rollnumber\":101}}'\n",
    "python_data=json.loads(json_data)\n",
    "student_details=python_data['student']\n",
    "print(student_details['name'])\n",
    "print(student_details['Rollnumber'])"
   ]
  },
  {
   "cell_type": "markdown",
   "id": "17204514",
   "metadata": {},
   "source": [
    "# convert json array to python list or tuple"
   ]
  },
  {
   "cell_type": "code",
   "execution_count": 24,
   "id": "1c0c9388",
   "metadata": {},
   "outputs": [
    {
     "name": "stdout",
     "output_type": "stream",
     "text": [
      "<class 'dict'>\n",
      "['Apple', 'Mango', 'guava', 'Banana']\n",
      "<class 'list'>\n",
      "4\n",
      "Apple\n",
      "Mango\n",
      "guava\n",
      "Banana\n"
     ]
    }
   ],
   "source": [
    "import json\n",
    "json_data='{\"fruits\":[\"Apple\",\"Mango\",\"guava\",\"Banana\"]}'\n",
    "python_data=json.loads(json_data)\n",
    "print(type(python_data))\n",
    "print(python_data['fruits'])\n",
    "print(type(python_data['fruits']))\n",
    "print(len(python_data['fruits']))\n",
    "for i in python_data['fruits']:\n",
    "    print(i)"
   ]
  },
  {
   "cell_type": "markdown",
   "id": "5efd2ca6",
   "metadata": {},
   "source": [
    "# explore json data"
   ]
  },
  {
   "cell_type": "code",
   "execution_count": null,
   "id": "c30cfa0d",
   "metadata": {},
   "outputs": [],
   "source": [
    "import json\n",
    "import requests\n",
    "response=requests.get('https://codingninjas.in/api/v3/courses')\n",
    "python_data=response.json(response.text)\n",
    "print(type(python_data))\n",
    "print(python_data)\n"
   ]
  },
  {
   "cell_type": "markdown",
   "id": "7ae25f8c",
   "metadata": {},
   "source": [
    "Print all sub-breeds of hound by making a get request to given URL.<br?\n",
    "URL : https://dog.ceo/api/breeds/list/all<br>\n",
    "Print name of sub-breeds in different lines."
   ]
  },
  {
   "cell_type": "code",
   "execution_count": 4,
   "id": "ac218c97",
   "metadata": {},
   "outputs": [
    {
     "name": "stdout",
     "output_type": "stream",
     "text": [
      "<class 'dict'>\n",
      "afghan\n",
      "basset\n",
      "blood\n",
      "english\n",
      "ibizan\n",
      "plott\n",
      "walker\n"
     ]
    }
   ],
   "source": [
    "import requests\n",
    "p=requests.get('https://dog.ceo/api/breeds/list/all')\n",
    "#print(p.text)\n",
    "python_data=p.json()\n",
    "#print(python_data)\n",
    "print(type(python_data))\n",
    "# count lenght of subbreeds and subbreeds name\n",
    "#for key,value in python_data['message'].items():\n",
    "    #print(key,\":\",len(value))\n",
    "# print sub-breeds of spanniel breeds dogs.\n",
    "#for i in python_data['message']['spaniel']:\n",
    "    #print(i)\n",
    "for i in python_data['message']['hound']:\n",
    "    print(i)"
   ]
  },
  {
   "cell_type": "markdown",
   "id": "7758a2c6",
   "metadata": {},
   "source": [
    "Print all sub-breeds of hound by making a get request to given URL.<br>\n",
    "URL : https://dog.ceo/api/breeds/list/all<br>\n",
    "Print name of sub-breeds in different lines."
   ]
  },
  {
   "cell_type": "code",
   "execution_count": 2,
   "id": "6e59d54f",
   "metadata": {},
   "outputs": [
    {
     "name": "stdout",
     "output_type": "stream",
     "text": [
      "200\n",
      "https://dog.ceo/dog-api/\n"
     ]
    }
   ],
   "source": [
    "import requests\n",
    "response=requests.get('https://dog.ceo/dog-api/')\n",
    "print(response.status_code)\n",
    "print(response.url)"
   ]
  },
  {
   "cell_type": "code",
   "execution_count": 3,
   "id": "aea6e145",
   "metadata": {},
   "outputs": [
    {
     "name": "stdout",
     "output_type": "stream",
     "text": [
      "<class 'dict'>\n",
      "4\n"
     ]
    }
   ],
   "source": [
    "p=requests.get('https://dog.ceo/api/breeds/list/all')\n",
    "#print(p.text)\n",
    "python_data=p.json()\n",
    "#print(python_data)\n",
    "print(type(python_data))\n",
    "# count lenght of subbreeds and subbreeds name\n",
    "#for key,value in python_data['message'].items():\n",
    "    #print(key,\":\",len(value))\n",
    "# print sub-breeds of spanniel breeds dogs.\n",
    "#for i in python_data['message']['spaniel']:\n",
    "    #print(i)\n",
    "#for i in python_data['message']['hound']:\n",
    "   # print(i)\n",
    "count=0\n",
    "for i in python_data['message']['poodle']:\n",
    "    count+=1\n",
    "print(count)\n",
    "   "
   ]
  },
  {
   "cell_type": "markdown",
   "id": "5a0ae27f",
   "metadata": {},
   "source": [
    "Print name of all online courses offered by Coding Ninjas. You can fetch the data using their open API :<br>\n",
    "https://api.codingninjas.com/api/v3/courses .\n",
    "\n"
   ]
  },
  {
   "cell_type": "code",
   "execution_count": 110,
   "id": "d8029a62",
   "metadata": {},
   "outputs": [
    {
     "name": "stdout",
     "output_type": "stream",
     "text": [
      "200\n",
      "System Design Course\n",
      "Premium Full Stack Web Development\n",
      "Premium Competitive Programming Course\n",
      "Premium Android App Development\n",
      "Premium Machine Learning Course\n",
      "Premium Data structures and Algorithms [C++/Java/Python]\n",
      "C++ Foundation with Data Structures\n",
      "Aptitude for professionals\n",
      "Premium Data Science Course\n",
      "Advanced  Front-End Web Development with React\n",
      "Machine Learning & Deep Learning Course\n",
      "Ninja Competitive Programmer Track\n",
      "Full Stack Web Development\n",
      "JAVA Foundation with Data Structures\n",
      "Ninja Android Developer Career Track \n",
      "Data Science & Machine Learning Complete\n",
      "Grokking the Operating Systems Interview\n",
      "Ninja  Web Developer Career Track - NodeJS & ReactJs\n",
      "Competitive Programming Course\n",
      "Ninja  Web Developer Career Track - NodeJS\n",
      "Ninja Data Scientist Career Track\n",
      "Android Development with Kotlin\n",
      "Aptitude Preparation Course\n",
      "Ninja Machine Learning Engineer Career Track\n"
     ]
    }
   ],
   "source": [
    "p1=requests.get('https://api.codingninjas.com/api/v3/courses')\n",
    "print(p1.status_code)\n",
    "#print(p1.text)\n",
    "python_data=p1.json()\n",
    "#print(python_data)\n",
    "#print(python_data['data'])\n",
    "for i in python_data['data']['courses']:\n",
    "    if 'available_online':\n",
    "            print(i['name'])"
   ]
  },
  {
   "cell_type": "markdown",
   "id": "e6a007a4",
   "metadata": {},
   "source": [
    "Print description of first event from Coding Ninjas Events API <br>\n",
    "If ther are no events in this API, then print \"No Events !\" <br>\n",
    "Data can be fetched from this URL :<br>\n",
    "Coding Ninjas Events API <br>\n",
    "\n",
    "\n"
   ]
  },
  {
   "cell_type": "code",
   "execution_count": 131,
   "id": "4b223217",
   "metadata": {},
   "outputs": [
    {
     "name": "stdout",
     "output_type": "stream",
     "text": [
      "Supercharge your career with our \"Master Your Career: Ultimate Portfolio Building Masterclass\" on 08 July 2023, from 6 PM to 7:30 PM. Gain insider knowledge, cutting-edge strategies, and high-converting resume templates to crack top companies. Plus, stand a chance to win referrals from Google, Adobe, Walmart, Microsoft, or your choice of company. Led by industry expert Priya, this is your ticket to career success. Register now and unlock your path to success!\n"
     ]
    }
   ],
   "source": [
    "import json\n",
    "p1=requests.get('https://api.codingninjas.com/api/v3/events?event_category=ALL_EVENTS&event_sub_category=All%20Time%20Favorites&tag_list=&offset=0&_ga=2.188475880.158936205.1692602883-455297490.1688931801')\n",
    "#print(p1.status_code)\n",
    "python_data=p1.json()\n",
    "#print(python_data)\n",
    "minimum=2900\n",
    "for i in python_data['data']['events']:\n",
    "    if i['id']==2955:\n",
    "        print(i['short_desc'])"
   ]
  },
  {
   "cell_type": "markdown",
   "id": "50a6eceb",
   "metadata": {},
   "source": [
    "Print the title of course with id=19.<br>\n",
    "URL : http://api.codingninjas.com/api/v3/courses"
   ]
  },
  {
   "cell_type": "code",
   "execution_count": 5,
   "id": "48ea1233",
   "metadata": {},
   "outputs": [
    {
     "name": "stdout",
     "output_type": "stream",
     "text": [
      "Machine Learning\n"
     ]
    }
   ],
   "source": [
    "import requests\n",
    "\n",
    "a1=requests.get(' http://api.codingninjas.com/api/v3/courses',params={\"id\":19})\n",
    "python_data=a1.json()\n",
    "#print(a1.status_code)\n",
    "#print(a1.url)\n",
    "for i in python_data['data']['courses']:\n",
    "    if i['id']==19:\n",
    "        print(i['title'])"
   ]
  },
  {
   "cell_type": "markdown",
   "id": "4bccf846",
   "metadata": {},
   "source": [
    "Make an API call to -<br>\n",
    "https://api.openweathermap.org/data/2.5/weather <br>\n",
    "\n",
    "Search for \"Hyderabad\" and print weather report and Temperature. <br>\n",
    "please go through the document to create your API Key and Print the answer.<br>\n",
    "Output format: <br>\n",
    "<City Name > <br>\n",
    "Temperature: < > <br>\n",
    "Weather Report: < ><br>"
   ]
  },
  {
   "cell_type": "code",
   "execution_count": 10,
   "id": "d2545ca6",
   "metadata": {},
   "outputs": [
    {
     "name": "stdout",
     "output_type": "stream",
     "text": [
      "Hyderabad\n",
      "Temperature: 301.38\n",
      "Weather Report: haze\n"
     ]
    }
   ],
   "source": [
    "import requests\n",
    "\n",
    "API_KEY = '2c3cc91cde7362d072ddab63b3282ce5'\n",
    "CITY_NAME = 'Hyderabad'\n",
    "API_URL = f'https://api.openweathermap.org/data/2.5/weather?q={CITY_NAME}&appid={API_KEY}'\n",
    "\n",
    "response = requests.get(API_URL)\n",
    "#print(response.status_code)\n",
    "#print(response.url)\n",
    "python_data=response.json()\n",
    "print(python_data['name'])\n",
    "print(\"Temperature:\",python_data['main']['temp'])\n",
    "print(\"Weather Report:\",python_data['weather'][0]['description'])"
   ]
  },
  {
   "cell_type": "markdown",
   "id": "def01b3e",
   "metadata": {},
   "source": [
    "Find the name of the holiday on 2nd October in the country India.<br>\n",
    "You can read the documentation here: https://holidayapi.com/ <br>\n",
    "API Link to be used -<br>\n",
    "https://holidayapi.com/docs<br>\n",
    "\n",
    "Note\n",
    "You can only fetch the last year's data using the holidayapi. So, if you are running this code in 2023 then use the date as 2nd October 2022."
   ]
  },
  {
   "cell_type": "code",
   "execution_count": 11,
   "id": "8063079f",
   "metadata": {},
   "outputs": [
    {
     "name": "stdout",
     "output_type": "stream",
     "text": [
      "Mahatma Gandhi's Birthday\n"
     ]
    }
   ],
   "source": [
    "import requests\n",
    "m=requests.get('https://holidayapi.com/v1/holidays',params={\"key\":\"9beb3a20-b0d4-43f1-b5a5-621add382e0e\",\"country\":\"IN\",\"year\":2022,\"month\":10,\"day\":2})\n",
    "#print(m.status_code)\n",
    "#print(m.url)\n",
    "python_data=m.json()\n",
    "for i in python_data['holidays']:\n",
    "    print(i['name'])\n",
    "    "
   ]
  },
  {
   "cell_type": "code",
   "execution_count": null,
   "id": "49da7a35",
   "metadata": {},
   "outputs": [],
   "source": []
  }
 ],
 "metadata": {
  "kernelspec": {
   "display_name": "Python 3 (ipykernel)",
   "language": "python",
   "name": "python3"
  },
  "language_info": {
   "codemirror_mode": {
    "name": "ipython",
    "version": 3
   },
   "file_extension": ".py",
   "mimetype": "text/x-python",
   "name": "python",
   "nbconvert_exporter": "python",
   "pygments_lexer": "ipython3",
   "version": "3.11.3"
  }
 },
 "nbformat": 4,
 "nbformat_minor": 5
}
